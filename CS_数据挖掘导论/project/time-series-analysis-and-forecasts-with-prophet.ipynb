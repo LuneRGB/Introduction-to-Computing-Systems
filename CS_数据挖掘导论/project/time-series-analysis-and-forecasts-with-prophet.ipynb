{
 "cells": [
  {
   "cell_type": "markdown",
   "metadata": {
    "_cell_guid": "1ca6a26a-a225-44de-a28c-445dbb9395cf",
    "_uuid": "2afc7d05cfcbeeb1fb4a3d4916ad24be9cedef77"
   },
   "source": [
    "# Time Series Analysis and Forecasting with Prophet\n",
    "\n",
    " **Goal:** \n",
    "\n",
    "- Explore the data (ECDF, handle missing values etc).\n",
    "- Analysis per store type and correlational analysis of stores activity.\n",
    "- Perform extensive Time Series Analysis (seasonal decomposition, trends, autocorrelation).\n",
    "- Predict next 6 weeks of sales using Prophet (Facebook methodology).\n",
    "\n",
    "根据 https://www.kaggle.com/code/elenapetrova/time-series-analysis-and-forecasts-with-prophet/notebook 修改完成"
   ]
  },
  {
   "cell_type": "markdown",
   "metadata": {
    "_cell_guid": "3afa1a34-f62c-42ec-8396-e77e56dbadbd",
    "_uuid": "c559ddee2294a923160c847bc0bca8f2b454f4f8"
   },
   "source": [
    "---"
   ]
  },
  {
   "cell_type": "code",
   "execution_count": 2,
   "metadata": {
    "_cell_guid": "5a3b3b53-7757-403a-a1d2-8567d8869aaa",
    "_execution_state": "idle",
    "_uuid": "3b14af2f165220db8d2cb6e0684c25b59e03caa2",
    "collapsed": false
   },
   "outputs": [],
   "source": [
    "import warnings\n",
    "warnings.filterwarnings(\"ignore\")\n",
    "\n",
    "# loading packages\n",
    "# basic + dates \n",
    "import numpy as np\n",
    "import pandas as pd\n",
    "from pandas import datetime\n",
    "\n",
    "# data visualization\n",
    "import matplotlib.pyplot as plt\n",
    "import seaborn as sns # advanced vizs\n",
    "%matplotlib inline\n",
    "\n",
    "\n",
    "# statistics\n",
    "from statsmodels.distributions.empirical_distribution import ECDF\n",
    "\n",
    "# time series analysis\n",
    "from statsmodels.tsa.seasonal import seasonal_decompose\n",
    "from statsmodels.graphics.tsaplots import plot_acf, plot_pacf\n",
    "\n",
    "# prophet by Facebook\n",
    "from fbprophet import Prophet"
   ]
  },
  {
   "cell_type": "code",
   "execution_count": 26,
   "metadata": {},
   "outputs": [
    {
     "name": "stdout",
     "output_type": "stream",
     "text": [
      "Joining train set with an additional transaction information.\n",
      "In total:  (3000888, 7)\n"
     ]
    }
   ],
   "source": [
    "print(\"Joining train set with an additional transaction information.\")\n",
    "\n",
    "train = pd.read_csv(\"store-sales-time-series-forecasting/train.csv\")\n",
    "transaction = pd.read_csv(\"store-sales-time-series-forecasting/transactions.csv\")\n",
    "\n",
    "train = pd.merge(train, transaction, how = 'left', on = ['store_nbr', 'date'])\n",
    "\n",
    "print(\"In total: \", train.shape)\n",
    "train.head()\n",
    "\n",
    "train.to_csv(\"store-sales-time-series-forecasting/train_with_transaction.csv\", index = False)"
   ]
  },
  {
   "cell_type": "code",
   "execution_count": 31,
   "metadata": {},
   "outputs": [
    {
     "name": "stdout",
     "output_type": "stream",
     "text": [
      "   id        date  store_nbr      family  sales  onpromotion  transactions\n",
      "0   0  2013-01-01          1  AUTOMOTIVE    0.0            0           NaN\n",
      "1   1  2013-01-01          1   BABY CARE    0.0            0           NaN\n",
      "2   2  2013-01-01          1      BEAUTY    0.0            0           NaN\n",
      "3   3  2013-01-01          1   BEVERAGES    0.0            0           NaN\n",
      "4   4  2013-01-01          1       BOOKS    0.0            0           NaN\n"
     ]
    }
   ],
   "source": [
    "train = pd.read_csv(\"store-sales-time-series-forecasting/train_with_transaction.csv\")\n",
    "\n",
    "print(train.head())"
   ]
  },
  {
   "cell_type": "code",
   "execution_count": 32,
   "metadata": {},
   "outputs": [
    {
     "data": {
      "text/html": [
       "<div>\n",
       "<style scoped>\n",
       "    .dataframe tbody tr th:only-of-type {\n",
       "        vertical-align: middle;\n",
       "    }\n",
       "\n",
       "    .dataframe tbody tr th {\n",
       "        vertical-align: top;\n",
       "    }\n",
       "\n",
       "    .dataframe thead th {\n",
       "        text-align: right;\n",
       "    }\n",
       "</style>\n",
       "<table border=\"1\" class=\"dataframe\">\n",
       "  <thead>\n",
       "    <tr style=\"text-align: right;\">\n",
       "      <th></th>\n",
       "      <th>id</th>\n",
       "      <th>date</th>\n",
       "      <th>store_nbr</th>\n",
       "      <th>family</th>\n",
       "      <th>sales</th>\n",
       "      <th>onpromotion</th>\n",
       "      <th>transactions</th>\n",
       "      <th>transaction</th>\n",
       "    </tr>\n",
       "  </thead>\n",
       "  <tbody>\n",
       "    <tr>\n",
       "      <th>0</th>\n",
       "      <td>0</td>\n",
       "      <td>2013-01-01</td>\n",
       "      <td>1</td>\n",
       "      <td>AUTOMOTIVE</td>\n",
       "      <td>0.0</td>\n",
       "      <td>0</td>\n",
       "      <td>NaN</td>\n",
       "      <td>0.0</td>\n",
       "    </tr>\n",
       "    <tr>\n",
       "      <th>1</th>\n",
       "      <td>1</td>\n",
       "      <td>2013-01-01</td>\n",
       "      <td>1</td>\n",
       "      <td>BABY CARE</td>\n",
       "      <td>0.0</td>\n",
       "      <td>0</td>\n",
       "      <td>NaN</td>\n",
       "      <td>0.0</td>\n",
       "    </tr>\n",
       "    <tr>\n",
       "      <th>2</th>\n",
       "      <td>2</td>\n",
       "      <td>2013-01-01</td>\n",
       "      <td>1</td>\n",
       "      <td>BEAUTY</td>\n",
       "      <td>0.0</td>\n",
       "      <td>0</td>\n",
       "      <td>NaN</td>\n",
       "      <td>0.0</td>\n",
       "    </tr>\n",
       "    <tr>\n",
       "      <th>3</th>\n",
       "      <td>3</td>\n",
       "      <td>2013-01-01</td>\n",
       "      <td>1</td>\n",
       "      <td>BEVERAGES</td>\n",
       "      <td>0.0</td>\n",
       "      <td>0</td>\n",
       "      <td>NaN</td>\n",
       "      <td>0.0</td>\n",
       "    </tr>\n",
       "    <tr>\n",
       "      <th>4</th>\n",
       "      <td>4</td>\n",
       "      <td>2013-01-01</td>\n",
       "      <td>1</td>\n",
       "      <td>BOOKS</td>\n",
       "      <td>0.0</td>\n",
       "      <td>0</td>\n",
       "      <td>NaN</td>\n",
       "      <td>0.0</td>\n",
       "    </tr>\n",
       "  </tbody>\n",
       "</table>\n",
       "</div>"
      ],
      "text/plain": [
       "   id        date  store_nbr      family  sales  onpromotion  transactions  \\\n",
       "0   0  2013-01-01          1  AUTOMOTIVE    0.0            0           NaN   \n",
       "1   1  2013-01-01          1   BABY CARE    0.0            0           NaN   \n",
       "2   2  2013-01-01          1      BEAUTY    0.0            0           NaN   \n",
       "3   3  2013-01-01          1   BEVERAGES    0.0            0           NaN   \n",
       "4   4  2013-01-01          1       BOOKS    0.0            0           NaN   \n",
       "\n",
       "   transaction  \n",
       "0          0.0  \n",
       "1          0.0  \n",
       "2          0.0  \n",
       "3          0.0  \n",
       "4          0.0  "
      ]
     },
     "execution_count": 32,
     "metadata": {},
     "output_type": "execute_result"
    }
   ],
   "source": [
    "\n",
    "\n",
    "train.head()"
   ]
  },
  {
   "cell_type": "code",
   "execution_count": 34,
   "metadata": {
    "_cell_guid": "868c6aa5-865a-4386-bd67-5eb1704478f4",
    "_execution_state": "idle",
    "_uuid": "5a679719e8a8d9e3385459eb1f038d2255ae2a94",
    "collapsed": false
   },
   "outputs": [
    {
     "data": {
      "text/plain": [
       "DatetimeIndex(['2013-01-01', '2013-01-01', '2013-01-01', '2013-01-01',\n",
       "               '2013-01-01', '2013-01-01', '2013-01-01', '2013-01-01',\n",
       "               '2013-01-01', '2013-01-01',\n",
       "               ...\n",
       "               '2017-08-15', '2017-08-15', '2017-08-15', '2017-08-15',\n",
       "               '2017-08-15', '2017-08-15', '2017-08-15', '2017-08-15',\n",
       "               '2017-08-15', '2017-08-15'],\n",
       "              dtype='datetime64[ns]', name='date', length=3000888, freq=None)"
      ]
     },
     "execution_count": 34,
     "metadata": {},
     "output_type": "execute_result"
    }
   ],
   "source": [
    "# importing train data to learn\n",
    "train = pd.read_csv(\"store-sales-time-series-forecasting/train_with_transaction.csv\", \n",
    "                    parse_dates = True, low_memory = False, index_col = 'date')\n",
    "\n",
    "train['transaction'] = train['transactions'].fillna(value=0)\n",
    "\n",
    "# additional store data\n",
    "store = pd.read_csv(\"store-sales-time-series-forecasting/stores.csv\", \n",
    "                    low_memory = False)\n",
    "# time series as indexes\n",
    "train.index"
   ]
  },
  {
   "cell_type": "markdown",
   "metadata": {
    "_cell_guid": "1e6bd756-82a9-40b5-8cca-8f4a6fe36ee0",
    "_uuid": "649f9da4af596d880618bed9c67485a9b9c35c37"
   },
   "source": [
    "## Exploratory Data Analysis "
   ]
  },
  {
   "cell_type": "markdown",
   "metadata": {
    "_cell_guid": "4830f82b-fa4d-4070-ac54-b1d993dbecbf",
    "_uuid": "e36090f02a4a243a210b6df6f46372826a71d61c"
   },
   "source": [
    "\n",
    "首先检查train和store两个表，处理一下缺失值，做一些新的特征。"
   ]
  },
  {
   "cell_type": "code",
   "execution_count": 35,
   "metadata": {
    "_cell_guid": "7e3b313a-c653-4af4-8d6f-5b3422a4eb4e",
    "_execution_state": "idle",
    "_uuid": "8e05ee04d06d431cdd8bac1d08c1ba3a1171f87b",
    "collapsed": false
   },
   "outputs": [
    {
     "name": "stdout",
     "output_type": "stream",
     "text": [
      "In total:  (3000888, 7)\n"
     ]
    },
    {
     "data": {
      "text/html": [
       "<div>\n",
       "<style scoped>\n",
       "    .dataframe tbody tr th:only-of-type {\n",
       "        vertical-align: middle;\n",
       "    }\n",
       "\n",
       "    .dataframe tbody tr th {\n",
       "        vertical-align: top;\n",
       "    }\n",
       "\n",
       "    .dataframe thead th {\n",
       "        text-align: right;\n",
       "    }\n",
       "</style>\n",
       "<table border=\"1\" class=\"dataframe\">\n",
       "  <thead>\n",
       "    <tr style=\"text-align: right;\">\n",
       "      <th></th>\n",
       "      <th>id</th>\n",
       "      <th>store_nbr</th>\n",
       "      <th>family</th>\n",
       "      <th>sales</th>\n",
       "      <th>onpromotion</th>\n",
       "      <th>transactions</th>\n",
       "      <th>transaction</th>\n",
       "    </tr>\n",
       "    <tr>\n",
       "      <th>date</th>\n",
       "      <th></th>\n",
       "      <th></th>\n",
       "      <th></th>\n",
       "      <th></th>\n",
       "      <th></th>\n",
       "      <th></th>\n",
       "      <th></th>\n",
       "    </tr>\n",
       "  </thead>\n",
       "  <tbody>\n",
       "    <tr>\n",
       "      <th>2013-01-01</th>\n",
       "      <td>0</td>\n",
       "      <td>1</td>\n",
       "      <td>AUTOMOTIVE</td>\n",
       "      <td>0.0</td>\n",
       "      <td>0</td>\n",
       "      <td>NaN</td>\n",
       "      <td>0.0</td>\n",
       "    </tr>\n",
       "    <tr>\n",
       "      <th>2013-01-01</th>\n",
       "      <td>1</td>\n",
       "      <td>1</td>\n",
       "      <td>BABY CARE</td>\n",
       "      <td>0.0</td>\n",
       "      <td>0</td>\n",
       "      <td>NaN</td>\n",
       "      <td>0.0</td>\n",
       "    </tr>\n",
       "    <tr>\n",
       "      <th>2013-01-01</th>\n",
       "      <td>2</td>\n",
       "      <td>1</td>\n",
       "      <td>BEAUTY</td>\n",
       "      <td>0.0</td>\n",
       "      <td>0</td>\n",
       "      <td>NaN</td>\n",
       "      <td>0.0</td>\n",
       "    </tr>\n",
       "    <tr>\n",
       "      <th>2013-01-01</th>\n",
       "      <td>3</td>\n",
       "      <td>1</td>\n",
       "      <td>BEVERAGES</td>\n",
       "      <td>0.0</td>\n",
       "      <td>0</td>\n",
       "      <td>NaN</td>\n",
       "      <td>0.0</td>\n",
       "    </tr>\n",
       "    <tr>\n",
       "      <th>2013-01-01</th>\n",
       "      <td>4</td>\n",
       "      <td>1</td>\n",
       "      <td>BOOKS</td>\n",
       "      <td>0.0</td>\n",
       "      <td>0</td>\n",
       "      <td>NaN</td>\n",
       "      <td>0.0</td>\n",
       "    </tr>\n",
       "  </tbody>\n",
       "</table>\n",
       "</div>"
      ],
      "text/plain": [
       "            id  store_nbr      family  sales  onpromotion  transactions  \\\n",
       "date                                                                      \n",
       "2013-01-01   0          1  AUTOMOTIVE    0.0            0           NaN   \n",
       "2013-01-01   1          1   BABY CARE    0.0            0           NaN   \n",
       "2013-01-01   2          1      BEAUTY    0.0            0           NaN   \n",
       "2013-01-01   3          1   BEVERAGES    0.0            0           NaN   \n",
       "2013-01-01   4          1       BOOKS    0.0            0           NaN   \n",
       "\n",
       "            transaction  \n",
       "date                     \n",
       "2013-01-01          0.0  \n",
       "2013-01-01          0.0  \n",
       "2013-01-01          0.0  \n",
       "2013-01-01          0.0  \n",
       "2013-01-01          0.0  "
      ]
     },
     "execution_count": 35,
     "metadata": {},
     "output_type": "execute_result"
    }
   ],
   "source": [
    "# first glance at the train set: head and tail\n",
    "print(\"In total: \", train.shape)\n",
    "train.head(5)"
   ]
  },
  {
   "cell_type": "code",
   "execution_count": 36,
   "metadata": {},
   "outputs": [
    {
     "name": "stdout",
     "output_type": "stream",
     "text": [
      "         date     type    locale locale_name                    description  \\\n",
      "0  2012-03-02  Holiday     Local       Manta             Fundacion de Manta   \n",
      "1  2012-04-01  Holiday  Regional    Cotopaxi  Provincializacion de Cotopaxi   \n",
      "2  2012-04-12  Holiday     Local      Cuenca            Fundacion de Cuenca   \n",
      "3  2012-04-14  Holiday     Local    Libertad      Cantonizacion de Libertad   \n",
      "4  2012-04-21  Holiday     Local    Riobamba      Cantonizacion de Riobamba   \n",
      "\n",
      "   transferred  \n",
      "0        False  \n",
      "1        False  \n",
      "2        False  \n",
      "3        False  \n",
      "4        False  \n"
     ]
    }
   ],
   "source": [
    "# train的特征比较少，添加holiday的一些特征进去，先检查一下holiday\n",
    "holiday_df = pd.read_csv(\"store-sales-time-series-forecasting/holidays_events.csv\")\n",
    "print(holiday_df.head())"
   ]
  },
  {
   "cell_type": "markdown",
   "metadata": {},
   "source": [
    "可以用的：\n",
    "\n",
    "date: 需要跟训练集做join\n",
    "\n",
    "type: 如果是holiday，加进那个训练集\n",
    "\n",
    "locale: national holiday in use，认为大部分商店会关门，如果是就写成1"
   ]
  },
  {
   "cell_type": "code",
   "execution_count": 37,
   "metadata": {},
   "outputs": [],
   "source": [
    "# merge the holiday data with the train data\n",
    "def get_holiday(date):\n",
    "    try: \n",
    "        type = holiday_df[holiday_df.date == date].type.values[0]\n",
    "        if( type == 'Holiday'):\n",
    "        # if(holiday_df[holiday_df.date == date].locale.values[0] == 'Regional'):       #不确定要不要加这个，先试试\n",
    "            return 1\n",
    "        else:\n",
    "            return 0\n",
    "    except:\n",
    "        return 0\n",
    "\n",
    "holiday = []\n",
    "\n",
    "train_df = pd.read_csv(\"store-sales-time-series-forecasting/train.csv\")\n",
    "\n",
    "for date in train_df.date:\n",
    "    holiday.append(get_holiday(date))\n",
    "\n",
    "train['holiday'] = holiday\n"
   ]
  },
  {
   "cell_type": "code",
   "execution_count": 47,
   "metadata": {},
   "outputs": [],
   "source": [
    "train = train.drop('transactions', axis=1)\n",
    "# 刚刚加错了"
   ]
  },
  {
   "cell_type": "code",
   "execution_count": 48,
   "metadata": {},
   "outputs": [
    {
     "data": {
      "text/html": [
       "<div>\n",
       "<style scoped>\n",
       "    .dataframe tbody tr th:only-of-type {\n",
       "        vertical-align: middle;\n",
       "    }\n",
       "\n",
       "    .dataframe tbody tr th {\n",
       "        vertical-align: top;\n",
       "    }\n",
       "\n",
       "    .dataframe thead th {\n",
       "        text-align: right;\n",
       "    }\n",
       "</style>\n",
       "<table border=\"1\" class=\"dataframe\">\n",
       "  <thead>\n",
       "    <tr style=\"text-align: right;\">\n",
       "      <th></th>\n",
       "      <th>id</th>\n",
       "      <th>store_nbr</th>\n",
       "      <th>family</th>\n",
       "      <th>sales</th>\n",
       "      <th>onpromotion</th>\n",
       "      <th>transaction</th>\n",
       "      <th>holiday</th>\n",
       "    </tr>\n",
       "    <tr>\n",
       "      <th>date</th>\n",
       "      <th></th>\n",
       "      <th></th>\n",
       "      <th></th>\n",
       "      <th></th>\n",
       "      <th></th>\n",
       "      <th></th>\n",
       "      <th></th>\n",
       "    </tr>\n",
       "  </thead>\n",
       "  <tbody>\n",
       "    <tr>\n",
       "      <th>2013-01-02</th>\n",
       "      <td>1782</td>\n",
       "      <td>1</td>\n",
       "      <td>AUTOMOTIVE</td>\n",
       "      <td>2.000</td>\n",
       "      <td>0</td>\n",
       "      <td>2111.0</td>\n",
       "      <td>0</td>\n",
       "    </tr>\n",
       "    <tr>\n",
       "      <th>2013-01-02</th>\n",
       "      <td>1783</td>\n",
       "      <td>1</td>\n",
       "      <td>BABY CARE</td>\n",
       "      <td>0.000</td>\n",
       "      <td>0</td>\n",
       "      <td>2111.0</td>\n",
       "      <td>0</td>\n",
       "    </tr>\n",
       "    <tr>\n",
       "      <th>2013-01-02</th>\n",
       "      <td>1784</td>\n",
       "      <td>1</td>\n",
       "      <td>BEAUTY</td>\n",
       "      <td>2.000</td>\n",
       "      <td>0</td>\n",
       "      <td>2111.0</td>\n",
       "      <td>0</td>\n",
       "    </tr>\n",
       "    <tr>\n",
       "      <th>2013-01-02</th>\n",
       "      <td>1785</td>\n",
       "      <td>1</td>\n",
       "      <td>BEVERAGES</td>\n",
       "      <td>1091.000</td>\n",
       "      <td>0</td>\n",
       "      <td>2111.0</td>\n",
       "      <td>0</td>\n",
       "    </tr>\n",
       "    <tr>\n",
       "      <th>2013-01-02</th>\n",
       "      <td>1786</td>\n",
       "      <td>1</td>\n",
       "      <td>BOOKS</td>\n",
       "      <td>0.000</td>\n",
       "      <td>0</td>\n",
       "      <td>2111.0</td>\n",
       "      <td>0</td>\n",
       "    </tr>\n",
       "    <tr>\n",
       "      <th>...</th>\n",
       "      <td>...</td>\n",
       "      <td>...</td>\n",
       "      <td>...</td>\n",
       "      <td>...</td>\n",
       "      <td>...</td>\n",
       "      <td>...</td>\n",
       "      <td>...</td>\n",
       "    </tr>\n",
       "    <tr>\n",
       "      <th>2017-08-14</th>\n",
       "      <td>2999101</td>\n",
       "      <td>9</td>\n",
       "      <td>POULTRY</td>\n",
       "      <td>283.429</td>\n",
       "      <td>0</td>\n",
       "      <td>1971.0</td>\n",
       "      <td>0</td>\n",
       "    </tr>\n",
       "    <tr>\n",
       "      <th>2017-08-14</th>\n",
       "      <td>2999102</td>\n",
       "      <td>9</td>\n",
       "      <td>PREPARED FOODS</td>\n",
       "      <td>114.120</td>\n",
       "      <td>0</td>\n",
       "      <td>1971.0</td>\n",
       "      <td>0</td>\n",
       "    </tr>\n",
       "    <tr>\n",
       "      <th>2017-08-14</th>\n",
       "      <td>2999103</td>\n",
       "      <td>9</td>\n",
       "      <td>PRODUCE</td>\n",
       "      <td>1348.425</td>\n",
       "      <td>7</td>\n",
       "      <td>1971.0</td>\n",
       "      <td>0</td>\n",
       "    </tr>\n",
       "    <tr>\n",
       "      <th>2017-08-14</th>\n",
       "      <td>2999104</td>\n",
       "      <td>9</td>\n",
       "      <td>SCHOOL AND OFFICE SUPPLIES</td>\n",
       "      <td>182.000</td>\n",
       "      <td>11</td>\n",
       "      <td>1971.0</td>\n",
       "      <td>0</td>\n",
       "    </tr>\n",
       "    <tr>\n",
       "      <th>2017-08-14</th>\n",
       "      <td>2999105</td>\n",
       "      <td>9</td>\n",
       "      <td>SEAFOOD</td>\n",
       "      <td>17.000</td>\n",
       "      <td>0</td>\n",
       "      <td>1971.0</td>\n",
       "      <td>0</td>\n",
       "    </tr>\n",
       "  </tbody>\n",
       "</table>\n",
       "<p>2730024 rows × 7 columns</p>\n",
       "</div>"
      ],
      "text/plain": [
       "                 id  store_nbr                      family     sales  \\\n",
       "date                                                                   \n",
       "2013-01-02     1782          1                  AUTOMOTIVE     2.000   \n",
       "2013-01-02     1783          1                   BABY CARE     0.000   \n",
       "2013-01-02     1784          1                      BEAUTY     2.000   \n",
       "2013-01-02     1785          1                   BEVERAGES  1091.000   \n",
       "2013-01-02     1786          1                       BOOKS     0.000   \n",
       "...             ...        ...                         ...       ...   \n",
       "2017-08-14  2999101          9                     POULTRY   283.429   \n",
       "2017-08-14  2999102          9              PREPARED FOODS   114.120   \n",
       "2017-08-14  2999103          9                     PRODUCE  1348.425   \n",
       "2017-08-14  2999104          9  SCHOOL AND OFFICE SUPPLIES   182.000   \n",
       "2017-08-14  2999105          9                     SEAFOOD    17.000   \n",
       "\n",
       "            onpromotion  transaction  holiday  \n",
       "date                                           \n",
       "2013-01-02            0       2111.0        0  \n",
       "2013-01-02            0       2111.0        0  \n",
       "2013-01-02            0       2111.0        0  \n",
       "2013-01-02            0       2111.0        0  \n",
       "2013-01-02            0       2111.0        0  \n",
       "...                 ...          ...      ...  \n",
       "2017-08-14            0       1971.0        0  \n",
       "2017-08-14            0       1971.0        0  \n",
       "2017-08-14            7       1971.0        0  \n",
       "2017-08-14           11       1971.0        0  \n",
       "2017-08-14            0       1971.0        0  \n",
       "\n",
       "[2730024 rows x 7 columns]"
      ]
     },
     "execution_count": 48,
     "metadata": {},
     "output_type": "execute_result"
    }
   ],
   "source": [
    "train[train.holiday == 0]\n",
    "# 检查一下发现是有0的，成功"
   ]
  },
  {
   "cell_type": "markdown",
   "metadata": {
    "_cell_guid": "b086e424-d33d-43e7-940c-e7d5a0c61025",
    "_uuid": "a7b2a4d13c34397eb06e10914546f54d411ccf0d"
   },
   "source": [
    "### ECDF: empirical cumulative distribution function"
   ]
  },
  {
   "cell_type": "markdown",
   "metadata": {
    "_cell_guid": "218c2f61-19c1-4050-8cb1-c9d8d41c3122",
    "_uuid": "06a03cce9c76bcc28021cd0264dbdfb719d7ed38"
   },
   "source": [
    "直观把握数据分布："
   ]
  },
  {
   "cell_type": "code",
   "execution_count": 51,
   "metadata": {
    "_cell_guid": "e43a9b1a-30ff-4d50-9080-8ef9cda5fdf7",
    "_uuid": "c37047a96382b99936d10a3920bf775700b0db03",
    "collapsed": false
   },
   "outputs": [
    {
     "data": {
      "image/png": "[encoded data removed]",
      "text/plain": [
       "<Figure size 864x432 with 3 Axes>"
      ]
     },
     "metadata": {},
     "output_type": "display_data"
    }
   ],
   "source": [
    "sns.set(style = \"ticks\")# to format into seaborn \n",
    "c = '#386B7F' # basic color for plots\n",
    "plt.figure(figsize = (12, 6))\n",
    "\n",
    "plt.subplot(311)\n",
    "cdf = ECDF(train['sales'])\n",
    "plt.plot(cdf.x, cdf.y, label = \"statmodels\", color = c);\n",
    "plt.xlabel('Sales'); plt.ylabel('ECDF');\n",
    "\n",
    "# plot second ECDF  \n",
    "plt.subplot(312)\n",
    "cdf = ECDF(train['transaction'])\n",
    "plt.plot(cdf.x, cdf.y, label = \"statmodels\", color = c);\n",
    "plt.xlabel('Customers');\n",
    "\n",
    "# plot second ECDF  \n",
    "plt.subplot(313)\n",
    "cdf = ECDF(train['SalePerTransaction'])\n",
    "plt.plot(cdf.x, cdf.y, label = \"statmodels\", color = c);\n",
    "plt.xlabel('Sale per Customer');"
   ]
  },
  {
   "cell_type": "markdown",
   "metadata": {
    "_cell_guid": "f7c3ed93-31ae-4f3e-8bb4-3f2abb55f4b8",
    "_uuid": "28d33f9fc89c3c875acd17a9ccb601b915034ffd"
   },
   "source": [
    "### Missing values \n",
    "#### Closed stores and zero sales stores"
   ]
  },
  {
   "cell_type": "code",
   "execution_count": 52,
   "metadata": {},
   "outputs": [
    {
     "data": {
      "text/plain": [
       "array([0., 0., 0., 0., 0., 0., 0., 0., 0., 0., 0., 0., 0., 0., 0., 0., 0.,\n",
       "       0., 0., 0., 0., 0., 0., 0., 0., 0., 0., 0., 0., 0., 0., 0., 0.])"
      ]
     },
     "execution_count": 52,
     "metadata": {},
     "output_type": "execute_result"
    }
   ],
   "source": [
    "nbr = 1\n",
    "date = '2013-01-01'\n",
    "train[(train.store_nbr == nbr) & (train.index == date)].sales.values"
   ]
  },
  {
   "cell_type": "code",
   "execution_count": null,
   "metadata": {
    "_cell_guid": "1d659f57-0039-4291-ad2c-77828154c7dd",
    "_uuid": "9a9eb2c801a4e1584d21c17b597b9d24d01bbae6",
    "collapsed": false
   },
   "outputs": [],
   "source": [
    "# closed stores\n",
    "# train[(train.Open == 0) & (train.Sales == 0)].head()\n",
    "\n",
    "# 首先，我们的数据集没有open项\n",
    "\n",
    "open = []\n",
    "true = [ 0 * i for i in range(len(train.store_nbr.unique()))]   # 最初都认为是关着的\n",
    "\n",
    "# 假设从某个值开始都是0，就是closed\n",
    "iter1 = list(train_df.date.unique())    # 坑：reverse（）返回值是none\n",
    "iter2 = list(train.store_nbr.unique())\n",
    "iter1.reverse()\n",
    "iter2.reverse()\n",
    "for date in iter1:          # 从后往前看，遇到首1认为是open, 否则认为是closed。\n",
    "    for nbr in iter2:\n",
    "        if(train[(train.store_nbr == nbr) & (train.index == date)].sales.values.any() != 0.0):\n",
    "            # 坑3：這樣好像查不到value\n",
    "            true[nbr - 1] = 1       # 坑2: 商店下标从1开始\n",
    "            \n",
    "        for i in range(33):         # 每天每个商店33种商品\n",
    "            open.append(true[nbr - 1])\n",
    "\n",
    "open.reverse()\n",
    "train['open'] = open\n",
    "\n",
    "\n",
    "# 但是怎么试好像全都是open的"
   ]
  },
  {
   "cell_type": "code",
   "execution_count": 75,
   "metadata": {},
   "outputs": [
    {
     "data": {
      "text/plain": [
       "(0, 11)"
      ]
     },
     "execution_count": 75,
     "metadata": {},
     "output_type": "execute_result"
    }
   ],
   "source": [
    "train[train.open == 0].shape"
   ]
  },
  {
   "cell_type": "code",
   "execution_count": 57,
   "metadata": {},
   "outputs": [
    {
     "data": {
      "text/plain": [
       "id                         0\n",
       "store_nbr                  0\n",
       "family                     0\n",
       "sales                      0\n",
       "onpromotion                0\n",
       "transaction                0\n",
       "holiday                    0\n",
       "year                       0\n",
       "month                      0\n",
       "day                        0\n",
       "weekOfYear                 0\n",
       "SalePerTransaction    242536\n",
       "dtype: int64"
      ]
     },
     "execution_count": 57,
     "metadata": {},
     "output_type": "execute_result"
    }
   ],
   "source": [
    "# missing values?\n",
    "train.isnull().sum()\n",
    "# 不会吧"
   ]
  },
  {
   "cell_type": "code",
   "execution_count": 63,
   "metadata": {},
   "outputs": [],
   "source": [
    "train = pd.read_csv(\"store-sales-time-series-forecasting/train_store_transaction.csv\",  low_memory = False)\n",
    "train['SalePerTransaction'] = train['SalePerTransaction'].fillna(0)"
   ]
  },
  {
   "cell_type": "markdown",
   "metadata": {
    "_cell_guid": "37265fa7-5e29-44d9-acb0-5515d52f0299",
    "_uuid": "486db76f21f026457b2509bb01bfd251783845a9"
   },
   "source": [
    "What about store information:"
   ]
  },
  {
   "cell_type": "code",
   "execution_count": 53,
   "metadata": {
    "_cell_guid": "232cfcd1-3ecb-4a82-8ec4-1e39a762ec33",
    "_uuid": "61007f42d13f5d99d02522b803be24e3e367837e",
    "collapsed": false
   },
   "outputs": [
    {
     "data": {
      "text/html": [
       "<div>\n",
       "<style scoped>\n",
       "    .dataframe tbody tr th:only-of-type {\n",
       "        vertical-align: middle;\n",
       "    }\n",
       "\n",
       "    .dataframe tbody tr th {\n",
       "        vertical-align: top;\n",
       "    }\n",
       "\n",
       "    .dataframe thead th {\n",
       "        text-align: right;\n",
       "    }\n",
       "</style>\n",
       "<table border=\"1\" class=\"dataframe\">\n",
       "  <thead>\n",
       "    <tr style=\"text-align: right;\">\n",
       "      <th></th>\n",
       "      <th>store_nbr</th>\n",
       "      <th>city</th>\n",
       "      <th>state</th>\n",
       "      <th>type</th>\n",
       "      <th>cluster</th>\n",
       "    </tr>\n",
       "  </thead>\n",
       "  <tbody>\n",
       "    <tr>\n",
       "      <th>0</th>\n",
       "      <td>1</td>\n",
       "      <td>Quito</td>\n",
       "      <td>Pichincha</td>\n",
       "      <td>D</td>\n",
       "      <td>13</td>\n",
       "    </tr>\n",
       "    <tr>\n",
       "      <th>1</th>\n",
       "      <td>2</td>\n",
       "      <td>Quito</td>\n",
       "      <td>Pichincha</td>\n",
       "      <td>D</td>\n",
       "      <td>13</td>\n",
       "    </tr>\n",
       "    <tr>\n",
       "      <th>2</th>\n",
       "      <td>3</td>\n",
       "      <td>Quito</td>\n",
       "      <td>Pichincha</td>\n",
       "      <td>D</td>\n",
       "      <td>8</td>\n",
       "    </tr>\n",
       "    <tr>\n",
       "      <th>3</th>\n",
       "      <td>4</td>\n",
       "      <td>Quito</td>\n",
       "      <td>Pichincha</td>\n",
       "      <td>D</td>\n",
       "      <td>9</td>\n",
       "    </tr>\n",
       "    <tr>\n",
       "      <th>4</th>\n",
       "      <td>5</td>\n",
       "      <td>Santo Domingo</td>\n",
       "      <td>Santo Domingo de los Tsachilas</td>\n",
       "      <td>D</td>\n",
       "      <td>4</td>\n",
       "    </tr>\n",
       "  </tbody>\n",
       "</table>\n",
       "</div>"
      ],
      "text/plain": [
       "   store_nbr           city                           state type  cluster\n",
       "0          1          Quito                       Pichincha    D       13\n",
       "1          2          Quito                       Pichincha    D       13\n",
       "2          3          Quito                       Pichincha    D        8\n",
       "3          4          Quito                       Pichincha    D        9\n",
       "4          5  Santo Domingo  Santo Domingo de los Tsachilas    D        4"
      ]
     },
     "execution_count": 53,
     "metadata": {},
     "output_type": "execute_result"
    }
   ],
   "source": [
    "# additional information about the stores\n",
    "store.head()"
   ]
  },
  {
   "cell_type": "markdown",
   "metadata": {},
   "source": [
    "我们有的：\n",
    "\n",
    "- store_nbr：\n",
    "- type：A-E五种\n",
    "- cluster：一会把在同一个cluster里的做成distance = 100， 不在同一个里的做成10000（看起来和上面的比较一个数量级）这个思路好像也不行\n",
    "- promotion：在train里有，这里我们不plot了"
   ]
  },
  {
   "cell_type": "code",
   "execution_count": 60,
   "metadata": {
    "_cell_guid": "d5bc713f-4a1e-4ae0-9132-80a2a9a829d0",
    "_uuid": "1acb3a117d524b5ed6544bcae503d748ff41f6ed",
    "collapsed": false
   },
   "outputs": [
    {
     "data": {
      "text/plain": [
       "store_nbr    0\n",
       "city         0\n",
       "state        0\n",
       "type         0\n",
       "cluster      0\n",
       "dtype: int64"
      ]
     },
     "execution_count": 60,
     "metadata": {},
     "output_type": "execute_result"
    }
   ],
   "source": [
    "# missing values?\n",
    "store.isnull().sum()"
   ]
  },
  {
   "cell_type": "markdown",
   "metadata": {
    "_cell_guid": "25a2875e-9bde-4c12-951c-c7c72ca6f655",
    "_uuid": "3d905023b0b5944d6907249ca3c08d9efba5ca43"
   },
   "source": [
    "不会吧，我们的数据集好到都没有missing value？"
   ]
  },
  {
   "cell_type": "code",
   "execution_count": 64,
   "metadata": {
    "_cell_guid": "2a7bcb45-ebe2-495e-88f8-58d7d9b8c13f",
    "_uuid": "81cd7d0c91bb7edcf2f21056171ec2b075586921",
    "collapsed": false
   },
   "outputs": [
    {
     "name": "stdout",
     "output_type": "stream",
     "text": [
      "Joining train set with an additional store information.\n",
      "In total:  (3000888, 17)\n"
     ]
    },
    {
     "data": {
      "text/html": [
       "<div>\n",
       "<style scoped>\n",
       "    .dataframe tbody tr th:only-of-type {\n",
       "        vertical-align: middle;\n",
       "    }\n",
       "\n",
       "    .dataframe tbody tr th {\n",
       "        vertical-align: top;\n",
       "    }\n",
       "\n",
       "    .dataframe thead th {\n",
       "        text-align: right;\n",
       "    }\n",
       "</style>\n",
       "<table border=\"1\" class=\"dataframe\">\n",
       "  <thead>\n",
       "    <tr style=\"text-align: right;\">\n",
       "      <th></th>\n",
       "      <th>date</th>\n",
       "      <th>id</th>\n",
       "      <th>store_nbr</th>\n",
       "      <th>family</th>\n",
       "      <th>sales</th>\n",
       "      <th>onpromotion</th>\n",
       "      <th>transaction</th>\n",
       "      <th>holiday</th>\n",
       "      <th>year</th>\n",
       "      <th>month</th>\n",
       "      <th>day</th>\n",
       "      <th>weekOfYear</th>\n",
       "      <th>SalePerTransaction</th>\n",
       "      <th>city</th>\n",
       "      <th>state</th>\n",
       "      <th>type</th>\n",
       "      <th>cluster</th>\n",
       "    </tr>\n",
       "  </thead>\n",
       "  <tbody>\n",
       "    <tr>\n",
       "      <th>0</th>\n",
       "      <td>2013-01-01</td>\n",
       "      <td>0</td>\n",
       "      <td>1</td>\n",
       "      <td>AUTOMOTIVE</td>\n",
       "      <td>0.0</td>\n",
       "      <td>0</td>\n",
       "      <td>0.0</td>\n",
       "      <td>1</td>\n",
       "      <td>2013</td>\n",
       "      <td>1</td>\n",
       "      <td>1</td>\n",
       "      <td>1</td>\n",
       "      <td>0.0</td>\n",
       "      <td>Quito</td>\n",
       "      <td>Pichincha</td>\n",
       "      <td>D</td>\n",
       "      <td>13</td>\n",
       "    </tr>\n",
       "    <tr>\n",
       "      <th>1</th>\n",
       "      <td>2013-01-01</td>\n",
       "      <td>1</td>\n",
       "      <td>1</td>\n",
       "      <td>BABY CARE</td>\n",
       "      <td>0.0</td>\n",
       "      <td>0</td>\n",
       "      <td>0.0</td>\n",
       "      <td>1</td>\n",
       "      <td>2013</td>\n",
       "      <td>1</td>\n",
       "      <td>1</td>\n",
       "      <td>1</td>\n",
       "      <td>0.0</td>\n",
       "      <td>Quito</td>\n",
       "      <td>Pichincha</td>\n",
       "      <td>D</td>\n",
       "      <td>13</td>\n",
       "    </tr>\n",
       "    <tr>\n",
       "      <th>2</th>\n",
       "      <td>2013-01-01</td>\n",
       "      <td>2</td>\n",
       "      <td>1</td>\n",
       "      <td>BEAUTY</td>\n",
       "      <td>0.0</td>\n",
       "      <td>0</td>\n",
       "      <td>0.0</td>\n",
       "      <td>1</td>\n",
       "      <td>2013</td>\n",
       "      <td>1</td>\n",
       "      <td>1</td>\n",
       "      <td>1</td>\n",
       "      <td>0.0</td>\n",
       "      <td>Quito</td>\n",
       "      <td>Pichincha</td>\n",
       "      <td>D</td>\n",
       "      <td>13</td>\n",
       "    </tr>\n",
       "    <tr>\n",
       "      <th>3</th>\n",
       "      <td>2013-01-01</td>\n",
       "      <td>3</td>\n",
       "      <td>1</td>\n",
       "      <td>BEVERAGES</td>\n",
       "      <td>0.0</td>\n",
       "      <td>0</td>\n",
       "      <td>0.0</td>\n",
       "      <td>1</td>\n",
       "      <td>2013</td>\n",
       "      <td>1</td>\n",
       "      <td>1</td>\n",
       "      <td>1</td>\n",
       "      <td>0.0</td>\n",
       "      <td>Quito</td>\n",
       "      <td>Pichincha</td>\n",
       "      <td>D</td>\n",
       "      <td>13</td>\n",
       "    </tr>\n",
       "    <tr>\n",
       "      <th>4</th>\n",
       "      <td>2013-01-01</td>\n",
       "      <td>4</td>\n",
       "      <td>1</td>\n",
       "      <td>BOOKS</td>\n",
       "      <td>0.0</td>\n",
       "      <td>0</td>\n",
       "      <td>0.0</td>\n",
       "      <td>1</td>\n",
       "      <td>2013</td>\n",
       "      <td>1</td>\n",
       "      <td>1</td>\n",
       "      <td>1</td>\n",
       "      <td>0.0</td>\n",
       "      <td>Quito</td>\n",
       "      <td>Pichincha</td>\n",
       "      <td>D</td>\n",
       "      <td>13</td>\n",
       "    </tr>\n",
       "  </tbody>\n",
       "</table>\n",
       "</div>"
      ],
      "text/plain": [
       "         date  id  store_nbr      family  sales  onpromotion  transaction  \\\n",
       "0  2013-01-01   0          1  AUTOMOTIVE    0.0            0          0.0   \n",
       "1  2013-01-01   1          1   BABY CARE    0.0            0          0.0   \n",
       "2  2013-01-01   2          1      BEAUTY    0.0            0          0.0   \n",
       "3  2013-01-01   3          1   BEVERAGES    0.0            0          0.0   \n",
       "4  2013-01-01   4          1       BOOKS    0.0            0          0.0   \n",
       "\n",
       "   holiday  year  month  day  weekOfYear  SalePerTransaction   city  \\\n",
       "0        1  2013      1    1           1                 0.0  Quito   \n",
       "1        1  2013      1    1           1                 0.0  Quito   \n",
       "2        1  2013      1    1           1                 0.0  Quito   \n",
       "3        1  2013      1    1           1                 0.0  Quito   \n",
       "4        1  2013      1    1           1                 0.0  Quito   \n",
       "\n",
       "       state type  cluster  \n",
       "0  Pichincha    D       13  \n",
       "1  Pichincha    D       13  \n",
       "2  Pichincha    D       13  \n",
       "3  Pichincha    D       13  \n",
       "4  Pichincha    D       13  "
      ]
     },
     "execution_count": 64,
     "metadata": {},
     "output_type": "execute_result"
    }
   ],
   "source": [
    "print(\"Joining train set with an additional store information.\")\n",
    "\n",
    "# by specifying inner join we make sure that only those observations \n",
    "# that are present in both train and store sets are merged together\n",
    "# 啊还有这种写法？\n",
    "train_store = pd.merge(train, store, how = 'inner', on = 'store_nbr')\n",
    "\n",
    "print(\"In total: \", train_store.shape)\n",
    "train_store.head()"
   ]
  },
  {
   "cell_type": "code",
   "execution_count": 65,
   "metadata": {},
   "outputs": [],
   "source": [
    "# 存好了！后面直接用……\n",
    "train.to_csv(\"store-sales-time-series-forecasting/train_store_transaction.csv\")"
   ]
  },
  {
   "cell_type": "markdown",
   "metadata": {
    "_cell_guid": "ee8f7083-17e5-4bde-8ba3-f8984f69db2e",
    "_uuid": "c8970b11d7cf26cdf221aa4efb2d5cbf38059cb0"
   },
   "source": [
    "### Store types"
   ]
  },
  {
   "cell_type": "markdown",
   "metadata": {
    "_cell_guid": "f48df70e-ae33-4781-b814-398a9f9930bf",
    "_uuid": "0ef10d82edadf2c2708027ebc656d5e5dc2fc0da"
   },
   "source": [
    "In this section we will closely look at different levels of `StoreType` and how the main metric `Sales` is distributed among them.  "
   ]
  },
  {
   "cell_type": "code",
   "execution_count": 84,
   "metadata": {
    "_cell_guid": "6bbc4222-42f6-4014-9557-e9198376015c",
    "_uuid": "6baa0185e6ca348269e93315056bb9185551e770",
    "collapsed": false
   },
   "outputs": [
    {
     "data": {
      "text/html": [
       "<div>\n",
       "<style scoped>\n",
       "    .dataframe tbody tr th:only-of-type {\n",
       "        vertical-align: middle;\n",
       "    }\n",
       "\n",
       "    .dataframe tbody tr th {\n",
       "        vertical-align: top;\n",
       "    }\n",
       "\n",
       "    .dataframe thead th {\n",
       "        text-align: right;\n",
       "    }\n",
       "</style>\n",
       "<table border=\"1\" class=\"dataframe\">\n",
       "  <thead>\n",
       "    <tr style=\"text-align: right;\">\n",
       "      <th></th>\n",
       "      <th>count</th>\n",
       "      <th>mean</th>\n",
       "      <th>std</th>\n",
       "      <th>min</th>\n",
       "      <th>25%</th>\n",
       "      <th>50%</th>\n",
       "      <th>75%</th>\n",
       "      <th>max</th>\n",
       "    </tr>\n",
       "    <tr>\n",
       "      <th>type</th>\n",
       "      <th></th>\n",
       "      <th></th>\n",
       "      <th></th>\n",
       "      <th></th>\n",
       "      <th></th>\n",
       "      <th></th>\n",
       "      <th></th>\n",
       "      <th></th>\n",
       "    </tr>\n",
       "  </thead>\n",
       "  <tbody>\n",
       "    <tr>\n",
       "      <th>A</th>\n",
       "      <td>360904.0</td>\n",
       "      <td>978.220917</td>\n",
       "      <td>2167.495757</td>\n",
       "      <td>1.0000</td>\n",
       "      <td>17.0</td>\n",
       "      <td>139.000</td>\n",
       "      <td>806.9080</td>\n",
       "      <td>76090.000</td>\n",
       "    </tr>\n",
       "    <tr>\n",
       "      <th>B</th>\n",
       "      <td>296530.0</td>\n",
       "      <td>489.868260</td>\n",
       "      <td>1163.068586</td>\n",
       "      <td>0.1220</td>\n",
       "      <td>7.0</td>\n",
       "      <td>60.000</td>\n",
       "      <td>421.9975</td>\n",
       "      <td>89576.360</td>\n",
       "    </tr>\n",
       "    <tr>\n",
       "      <th>C</th>\n",
       "      <td>533821.0</td>\n",
       "      <td>308.033484</td>\n",
       "      <td>702.536015</td>\n",
       "      <td>0.7840</td>\n",
       "      <td>6.0</td>\n",
       "      <td>58.961</td>\n",
       "      <td>233.0000</td>\n",
       "      <td>45361.000</td>\n",
       "    </tr>\n",
       "    <tr>\n",
       "      <th>D</th>\n",
       "      <td>733451.0</td>\n",
       "      <td>478.673145</td>\n",
       "      <td>1100.372690</td>\n",
       "      <td>0.1460</td>\n",
       "      <td>10.0</td>\n",
       "      <td>86.000</td>\n",
       "      <td>372.0000</td>\n",
       "      <td>124717.000</td>\n",
       "    </tr>\n",
       "    <tr>\n",
       "      <th>E</th>\n",
       "      <td>137052.0</td>\n",
       "      <td>436.494439</td>\n",
       "      <td>931.277893</td>\n",
       "      <td>0.1923</td>\n",
       "      <td>7.0</td>\n",
       "      <td>83.000</td>\n",
       "      <td>333.0000</td>\n",
       "      <td>16542.902</td>\n",
       "    </tr>\n",
       "  </tbody>\n",
       "</table>\n",
       "</div>"
      ],
      "text/plain": [
       "         count        mean          std     min   25%      50%       75%  \\\n",
       "type                                                                       \n",
       "A     360904.0  978.220917  2167.495757  1.0000  17.0  139.000  806.9080   \n",
       "B     296530.0  489.868260  1163.068586  0.1220   7.0   60.000  421.9975   \n",
       "C     533821.0  308.033484   702.536015  0.7840   6.0   58.961  233.0000   \n",
       "D     733451.0  478.673145  1100.372690  0.1460  10.0   86.000  372.0000   \n",
       "E     137052.0  436.494439   931.277893  0.1923   7.0   83.000  333.0000   \n",
       "\n",
       "             max  \n",
       "type              \n",
       "A      76090.000  \n",
       "B      89576.360  \n",
       "C      45361.000  \n",
       "D     124717.000  \n",
       "E      16542.902  "
      ]
     },
     "execution_count": 84,
     "metadata": {},
     "output_type": "execute_result"
    }
   ],
   "source": [
    "train_store.groupby('type')['sales'].describe()"
   ]
  },
  {
   "cell_type": "markdown",
   "metadata": {
    "_cell_guid": "252a994a-4e08-43ac-b0be-fe110d780ac7",
    "_uuid": "8212db6d7833da3d9f42afaa0aa2d9ec10bfb1a5"
   },
   "source": [
    "`StoreType` A has the highest average of Sales among all others, however we have much less data for it. So let's print an overall sum of `Sales` and `Customers` to see which `StoreType` is the most selling and crowded one:\n"
   ]
  },
  {
   "cell_type": "code",
   "execution_count": 86,
   "metadata": {
    "_cell_guid": "b8c90288-d1f2-4f2e-a894-b8ab187ff9bb",
    "_uuid": "5e9eebdc4a081f11b6fada77b46c6114e22eabc7",
    "collapsed": false
   },
   "outputs": [
    {
     "data": {
      "text/html": [
       "<div>\n",
       "<style scoped>\n",
       "    .dataframe tbody tr th:only-of-type {\n",
       "        vertical-align: middle;\n",
       "    }\n",
       "\n",
       "    .dataframe tbody tr th {\n",
       "        vertical-align: top;\n",
       "    }\n",
       "\n",
       "    .dataframe thead th {\n",
       "        text-align: right;\n",
       "    }\n",
       "</style>\n",
       "<table border=\"1\" class=\"dataframe\">\n",
       "  <thead>\n",
       "    <tr style=\"text-align: right;\">\n",
       "      <th></th>\n",
       "      <th>onpromotion</th>\n",
       "      <th>sales</th>\n",
       "    </tr>\n",
       "    <tr>\n",
       "      <th>type</th>\n",
       "      <th></th>\n",
       "      <th></th>\n",
       "    </tr>\n",
       "  </thead>\n",
       "  <tbody>\n",
       "    <tr>\n",
       "      <th>A</th>\n",
       "      <td>1505180</td>\n",
       "      <td>3.530438e+08</td>\n",
       "    </tr>\n",
       "    <tr>\n",
       "      <th>B</th>\n",
       "      <td>1261812</td>\n",
       "      <td>1.452606e+08</td>\n",
       "    </tr>\n",
       "    <tr>\n",
       "      <th>C</th>\n",
       "      <td>1742255</td>\n",
       "      <td>1.644347e+08</td>\n",
       "    </tr>\n",
       "    <tr>\n",
       "      <th>D</th>\n",
       "      <td>2699181</td>\n",
       "      <td>3.510833e+08</td>\n",
       "    </tr>\n",
       "    <tr>\n",
       "      <th>E</th>\n",
       "      <td>601699</td>\n",
       "      <td>5.982244e+07</td>\n",
       "    </tr>\n",
       "  </tbody>\n",
       "</table>\n",
       "</div>"
      ],
      "text/plain": [
       "      onpromotion         sales\n",
       "type                           \n",
       "A         1505180  3.530438e+08\n",
       "B         1261812  1.452606e+08\n",
       "C         1742255  1.644347e+08\n",
       "D         2699181  3.510833e+08\n",
       "E          601699  5.982244e+07"
      ]
     },
     "execution_count": 86,
     "metadata": {},
     "output_type": "execute_result"
    }
   ],
   "source": [
    "train_store.groupby('type')['transaction', 'sales'].sum()"
   ]
  },
  {
   "cell_type": "markdown",
   "metadata": {
    "_cell_guid": "54df3ecf-28bb-4807-9b0d-a50a0906eedd",
    "_uuid": "874d7c509a8541c620f5edc69a92ff8f03b9f39c"
   },
   "source": [
    "发现D是促销最多的\n",
    "\n",
    "What about date periods? Seaborn's facet grid is the best tool for this task:\n",
    "\n"
   ]
  },
  {
   "cell_type": "code",
   "execution_count": null,
   "metadata": {
    "_cell_guid": "6680fb46-3986-46d7-990a-66f03fc82ea7",
    "_uuid": "9677285bdd6595a4273c7d58573875d350ea0967",
    "collapsed": false
   },
   "outputs": [],
   "source": [
    "# sales trends\n",
    "import matplotlib.pyplot as plt\n",
    "import seaborn as sns\n",
    "\n",
    "plt.figure(dpi=100, figsize=(20, 8))\n",
    "sns.factorplot(data = train_store, x = 'month', y = \"sales\", \n",
    "               col = 'type', # per store type in cols\n",
    "               palette = 'plasma',\n",
    "               hue = 'type',\n",
    "               row = 'onpromotion', # per promo in the store in rows\n",
    "               color = c) "
   ]
  },
  {
   "cell_type": "markdown",
   "metadata": {
    "_cell_guid": "17cd2b7d-0e85-4cb5-b667-3d35862ae185",
    "_uuid": "07d7b866eb4feeda249fa3699fdffa64d2a52b51"
   },
   "source": [
    "所有商店类型都遵循同样的趋势，但规模不同，这取决于（第一个）促销活动`促销`和`商店类型`本身（B的情况）的存在。\n",
    "\n",
    "在这一点上，我们可以看到销售在圣诞假期前升级。但是我们将在后面的时间序列分析部分讨论季节性和趋势问题。"
   ]
  },
  {
   "cell_type": "code",
   "execution_count": null,
   "metadata": {
    "_cell_guid": "8319e131-53a7-462b-955c-ca061d8b5738",
    "_uuid": "d7715f46f381622386d0d6bcf3571d83fa8f072f",
    "collapsed": false
   },
   "outputs": [],
   "source": [
    "# customers\n",
    "sns.factorplot(data = train_store, x = 'month', y = \"SalePerTransaction\", \n",
    "               col = 'DayOfWeek', # per store type in cols\n",
    "               palette = 'plasma',\n",
    "               hue = 'type',\n",
    "               row = 'type', # per store type in rows\n",
    "               color = c) \n",
    "\n",
    "# 它说我的图太大了画不出来……一会再看吧"
   ]
  },
  {
   "cell_type": "markdown",
   "metadata": {
    "_cell_guid": "b9e087df-f697-4ad3-bf08-cb8035635813",
    "_uuid": "ac6b7efdec4299f9b507f52ac99137c556698609"
   },
   "source": [
    "We see that stores of `StoreType` C are all closed on Sundays, whereas others are most of the time opened. Interestingly enough, stores of `StoreType` D are closed on Sundays only from October to December.\n",
    "\n",
    "Bt the way what are the stores which are opened on Sundays?"
   ]
  },
  {
   "cell_type": "code",
   "execution_count": null,
   "metadata": {
    "_cell_guid": "5e53e722-6a26-40b2-80dc-e25778730b8c",
    "_uuid": "b8d8927e537091debc913a03ce015fd7a88aaba6",
    "collapsed": false
   },
   "outputs": [],
   "source": [
    "# stores which are opened on Sundays\n",
    "\n",
    "train_tool = pd.read_csv(\"store-sales-time-series-forecasting/train.csv\",  low_memory = False)\n",
    "\n",
    "train['DayOfWeek'] = train_tool.date.dayofweek\n",
    "\n",
    "train[train.DayOfWeek == 7]['store'].unique()"
   ]
  },
  {
   "cell_type": "markdown",
   "metadata": {
    "_cell_guid": "b21e83c0-ff98-441c-b242-08fbc38c2617",
    "_uuid": "088bc5998d6dcc46361b3fdb9bcbf39aec63a963"
   },
   "source": [
    "To complete our preliminary data analysis, we can add variables describing the period of time during which competition and promotion were opened:"
   ]
  },
  {
   "cell_type": "markdown",
   "metadata": {
    "_cell_guid": "69f70f76-2f83-42a7-b46b-0ff992d18d9e",
    "_uuid": "6cd1bbac9504ba0bf4c34aa507d8584929067e82"
   },
   "source": [
    "The most selling and crowded `StoreType` A doesn't appear to be the one the most exposed to competitors. Instead it's a `StoreType` B, which also has the longest running period of promotion."
   ]
  },
  {
   "cell_type": "code",
   "execution_count": 80,
   "metadata": {},
   "outputs": [],
   "source": [
    "oil = pd.read_csv(\"store-sales-time-series-forecasting/oil.csv\")\n",
    "train = pd.read_csv(\"store-sales-time-series-forecasting/train_store_transaction.csv\")\n",
    "\n",
    "train = pd.merge(train, oil, how = 'left', on = ['date'])\n",
    "\n"
   ]
  },
  {
   "cell_type": "code",
   "execution_count": 85,
   "metadata": {},
   "outputs": [
    {
     "data": {
      "text/html": [
       "<div>\n",
       "<style scoped>\n",
       "    .dataframe tbody tr th:only-of-type {\n",
       "        vertical-align: middle;\n",
       "    }\n",
       "\n",
       "    .dataframe tbody tr th {\n",
       "        vertical-align: top;\n",
       "    }\n",
       "\n",
       "    .dataframe thead th {\n",
       "        text-align: right;\n",
       "    }\n",
       "</style>\n",
       "<table border=\"1\" class=\"dataframe\">\n",
       "  <thead>\n",
       "    <tr style=\"text-align: right;\">\n",
       "      <th></th>\n",
       "      <th>Unnamed: 0</th>\n",
       "      <th>date</th>\n",
       "      <th>id</th>\n",
       "      <th>store_nbr</th>\n",
       "      <th>family</th>\n",
       "      <th>sales</th>\n",
       "      <th>onpromotion</th>\n",
       "      <th>transaction</th>\n",
       "      <th>holiday</th>\n",
       "      <th>year</th>\n",
       "      <th>month</th>\n",
       "      <th>day</th>\n",
       "      <th>weekOfYear</th>\n",
       "      <th>SalePerTransaction</th>\n",
       "      <th>dcoilwtico</th>\n",
       "    </tr>\n",
       "  </thead>\n",
       "  <tbody>\n",
       "    <tr>\n",
       "      <th>0</th>\n",
       "      <td>0</td>\n",
       "      <td>2013-01-01</td>\n",
       "      <td>0</td>\n",
       "      <td>1</td>\n",
       "      <td>AUTOMOTIVE</td>\n",
       "      <td>0.000</td>\n",
       "      <td>0</td>\n",
       "      <td>0.0</td>\n",
       "      <td>1</td>\n",
       "      <td>2013</td>\n",
       "      <td>1</td>\n",
       "      <td>1</td>\n",
       "      <td>1</td>\n",
       "      <td>0.000000</td>\n",
       "      <td>NaN</td>\n",
       "    </tr>\n",
       "    <tr>\n",
       "      <th>1</th>\n",
       "      <td>1</td>\n",
       "      <td>2013-01-01</td>\n",
       "      <td>1</td>\n",
       "      <td>1</td>\n",
       "      <td>BABY CARE</td>\n",
       "      <td>0.000</td>\n",
       "      <td>0</td>\n",
       "      <td>0.0</td>\n",
       "      <td>1</td>\n",
       "      <td>2013</td>\n",
       "      <td>1</td>\n",
       "      <td>1</td>\n",
       "      <td>1</td>\n",
       "      <td>0.000000</td>\n",
       "      <td>NaN</td>\n",
       "    </tr>\n",
       "    <tr>\n",
       "      <th>2</th>\n",
       "      <td>2</td>\n",
       "      <td>2013-01-01</td>\n",
       "      <td>2</td>\n",
       "      <td>1</td>\n",
       "      <td>BEAUTY</td>\n",
       "      <td>0.000</td>\n",
       "      <td>0</td>\n",
       "      <td>0.0</td>\n",
       "      <td>1</td>\n",
       "      <td>2013</td>\n",
       "      <td>1</td>\n",
       "      <td>1</td>\n",
       "      <td>1</td>\n",
       "      <td>0.000000</td>\n",
       "      <td>NaN</td>\n",
       "    </tr>\n",
       "    <tr>\n",
       "      <th>3</th>\n",
       "      <td>3</td>\n",
       "      <td>2013-01-01</td>\n",
       "      <td>3</td>\n",
       "      <td>1</td>\n",
       "      <td>BEVERAGES</td>\n",
       "      <td>0.000</td>\n",
       "      <td>0</td>\n",
       "      <td>0.0</td>\n",
       "      <td>1</td>\n",
       "      <td>2013</td>\n",
       "      <td>1</td>\n",
       "      <td>1</td>\n",
       "      <td>1</td>\n",
       "      <td>0.000000</td>\n",
       "      <td>NaN</td>\n",
       "    </tr>\n",
       "    <tr>\n",
       "      <th>4</th>\n",
       "      <td>4</td>\n",
       "      <td>2013-01-01</td>\n",
       "      <td>4</td>\n",
       "      <td>1</td>\n",
       "      <td>BOOKS</td>\n",
       "      <td>0.000</td>\n",
       "      <td>0</td>\n",
       "      <td>0.0</td>\n",
       "      <td>1</td>\n",
       "      <td>2013</td>\n",
       "      <td>1</td>\n",
       "      <td>1</td>\n",
       "      <td>1</td>\n",
       "      <td>0.000000</td>\n",
       "      <td>NaN</td>\n",
       "    </tr>\n",
       "    <tr>\n",
       "      <th>...</th>\n",
       "      <td>...</td>\n",
       "      <td>...</td>\n",
       "      <td>...</td>\n",
       "      <td>...</td>\n",
       "      <td>...</td>\n",
       "      <td>...</td>\n",
       "      <td>...</td>\n",
       "      <td>...</td>\n",
       "      <td>...</td>\n",
       "      <td>...</td>\n",
       "      <td>...</td>\n",
       "      <td>...</td>\n",
       "      <td>...</td>\n",
       "      <td>...</td>\n",
       "      <td>...</td>\n",
       "    </tr>\n",
       "    <tr>\n",
       "      <th>3000883</th>\n",
       "      <td>3000883</td>\n",
       "      <td>2017-08-15</td>\n",
       "      <td>3000883</td>\n",
       "      <td>9</td>\n",
       "      <td>POULTRY</td>\n",
       "      <td>438.133</td>\n",
       "      <td>0</td>\n",
       "      <td>2155.0</td>\n",
       "      <td>1</td>\n",
       "      <td>2017</td>\n",
       "      <td>8</td>\n",
       "      <td>15</td>\n",
       "      <td>33</td>\n",
       "      <td>0.203310</td>\n",
       "      <td>47.57</td>\n",
       "    </tr>\n",
       "    <tr>\n",
       "      <th>3000884</th>\n",
       "      <td>3000884</td>\n",
       "      <td>2017-08-15</td>\n",
       "      <td>3000884</td>\n",
       "      <td>9</td>\n",
       "      <td>PREPARED FOODS</td>\n",
       "      <td>154.553</td>\n",
       "      <td>1</td>\n",
       "      <td>2155.0</td>\n",
       "      <td>1</td>\n",
       "      <td>2017</td>\n",
       "      <td>8</td>\n",
       "      <td>15</td>\n",
       "      <td>33</td>\n",
       "      <td>0.071718</td>\n",
       "      <td>47.57</td>\n",
       "    </tr>\n",
       "    <tr>\n",
       "      <th>3000885</th>\n",
       "      <td>3000885</td>\n",
       "      <td>2017-08-15</td>\n",
       "      <td>3000885</td>\n",
       "      <td>9</td>\n",
       "      <td>PRODUCE</td>\n",
       "      <td>2419.729</td>\n",
       "      <td>148</td>\n",
       "      <td>2155.0</td>\n",
       "      <td>1</td>\n",
       "      <td>2017</td>\n",
       "      <td>8</td>\n",
       "      <td>15</td>\n",
       "      <td>33</td>\n",
       "      <td>1.122844</td>\n",
       "      <td>47.57</td>\n",
       "    </tr>\n",
       "    <tr>\n",
       "      <th>3000886</th>\n",
       "      <td>3000886</td>\n",
       "      <td>2017-08-15</td>\n",
       "      <td>3000886</td>\n",
       "      <td>9</td>\n",
       "      <td>SCHOOL AND OFFICE SUPPLIES</td>\n",
       "      <td>121.000</td>\n",
       "      <td>8</td>\n",
       "      <td>2155.0</td>\n",
       "      <td>1</td>\n",
       "      <td>2017</td>\n",
       "      <td>8</td>\n",
       "      <td>15</td>\n",
       "      <td>33</td>\n",
       "      <td>0.056148</td>\n",
       "      <td>47.57</td>\n",
       "    </tr>\n",
       "    <tr>\n",
       "      <th>3000887</th>\n",
       "      <td>3000887</td>\n",
       "      <td>2017-08-15</td>\n",
       "      <td>3000887</td>\n",
       "      <td>9</td>\n",
       "      <td>SEAFOOD</td>\n",
       "      <td>16.000</td>\n",
       "      <td>0</td>\n",
       "      <td>2155.0</td>\n",
       "      <td>1</td>\n",
       "      <td>2017</td>\n",
       "      <td>8</td>\n",
       "      <td>15</td>\n",
       "      <td>33</td>\n",
       "      <td>0.007425</td>\n",
       "      <td>47.57</td>\n",
       "    </tr>\n",
       "  </tbody>\n",
       "</table>\n",
       "<p>3000888 rows × 15 columns</p>\n",
       "</div>"
      ],
      "text/plain": [
       "         Unnamed: 0        date       id  store_nbr  \\\n",
       "0                 0  2013-01-01        0          1   \n",
       "1                 1  2013-01-01        1          1   \n",
       "2                 2  2013-01-01        2          1   \n",
       "3                 3  2013-01-01        3          1   \n",
       "4                 4  2013-01-01        4          1   \n",
       "...             ...         ...      ...        ...   \n",
       "3000883     3000883  2017-08-15  3000883          9   \n",
       "3000884     3000884  2017-08-15  3000884          9   \n",
       "3000885     3000885  2017-08-15  3000885          9   \n",
       "3000886     3000886  2017-08-15  3000886          9   \n",
       "3000887     3000887  2017-08-15  3000887          9   \n",
       "\n",
       "                             family     sales  onpromotion  transaction  \\\n",
       "0                        AUTOMOTIVE     0.000            0          0.0   \n",
       "1                         BABY CARE     0.000            0          0.0   \n",
       "2                            BEAUTY     0.000            0          0.0   \n",
       "3                         BEVERAGES     0.000            0          0.0   \n",
       "4                             BOOKS     0.000            0          0.0   \n",
       "...                             ...       ...          ...          ...   \n",
       "3000883                     POULTRY   438.133            0       2155.0   \n",
       "3000884              PREPARED FOODS   154.553            1       2155.0   \n",
       "3000885                     PRODUCE  2419.729          148       2155.0   \n",
       "3000886  SCHOOL AND OFFICE SUPPLIES   121.000            8       2155.0   \n",
       "3000887                     SEAFOOD    16.000            0       2155.0   \n",
       "\n",
       "         holiday  year  month  day  weekOfYear  SalePerTransaction  dcoilwtico  \n",
       "0              1  2013      1    1           1            0.000000         NaN  \n",
       "1              1  2013      1    1           1            0.000000         NaN  \n",
       "2              1  2013      1    1           1            0.000000         NaN  \n",
       "3              1  2013      1    1           1            0.000000         NaN  \n",
       "4              1  2013      1    1           1            0.000000         NaN  \n",
       "...          ...   ...    ...  ...         ...                 ...         ...  \n",
       "3000883        1  2017      8   15          33            0.203310       47.57  \n",
       "3000884        1  2017      8   15          33            0.071718       47.57  \n",
       "3000885        1  2017      8   15          33            1.122844       47.57  \n",
       "3000886        1  2017      8   15          33            0.056148       47.57  \n",
       "3000887        1  2017      8   15          33            0.007425       47.57  \n",
       "\n",
       "[3000888 rows x 15 columns]"
      ]
     },
     "execution_count": 85,
     "metadata": {},
     "output_type": "execute_result"
    }
   ],
   "source": [
    "train"
   ]
  },
  {
   "cell_type": "markdown",
   "metadata": {
    "_cell_guid": "d567f4a7-46ca-4881-bbd2-452f9ac7259d",
    "_uuid": "1468a1c2f2476c1175a9b711c250b188d496b842"
   },
   "source": [
    "### Correlational Analysis"
   ]
  },
  {
   "cell_type": "markdown",
   "metadata": {
    "_cell_guid": "dfe6f12e-f432-4ced-a113-c30744a53213",
    "_uuid": "ce899f9f61a967dba176a76113d00aec8bd9b056"
   },
   "source": [
    "We are finished with adding new variables to the data, so now we can check the overall correlations by plotting the `seaborn` heatmap:"
   ]
  },
  {
   "cell_type": "code",
   "execution_count": 83,
   "metadata": {
    "_cell_guid": "2f53fef0-f709-4b5a-921b-021a78e25066",
    "_uuid": "4e7f2b0e3cc7d2eba98634872b359023db2d7a1f",
    "collapsed": false
   },
   "outputs": [
    {
     "data": {
      "image/png": "[encoded data removed]",
      "text/plain": [
       "<Figure size 792x648 with 2 Axes>"
      ]
     },
     "metadata": {
      "needs_background": "light"
     },
     "output_type": "display_data"
    }
   ],
   "source": [
    "# Compute the correlation matrix \n",
    "# exclude 'Open' variable\n",
    "corr_all = train.corr()\n",
    "\n",
    "# Generate a mask for the upper triangle\n",
    "mask = np.zeros_like(corr_all, dtype = np.bool)\n",
    "mask[np.triu_indices_from(mask)] = True\n",
    "\n",
    "# Set up the matplotlib figure\n",
    "f, ax = plt.subplots(figsize = (11, 9))\n",
    "\n",
    "# Draw the heatmap with the mask and correct aspect ratio\n",
    "sns.heatmap(corr_all, mask = mask,\n",
    "            square = True, linewidths = .5, ax = ax, cmap = \"BuPu\")      \n",
    "plt.show()"
   ]
  },
  {
   "cell_type": "code",
   "execution_count": 89,
   "metadata": {
    "_cell_guid": "4b549cdb-9073-44e3-9e55-d3be73677bd0",
    "_uuid": "f5e39eb4242fc617470ff39f0b6fac8c661f575b",
    "collapsed": false
   },
   "outputs": [
    {
     "ename": "",
     "evalue": "",
     "output_type": "error",
     "traceback": [
      "\u001b[1;31mThe Kernel crashed while executing code in the the current cell or a previous cell. Please review the code in the cell(s) to identify a possible cause of the failure. Click <a href='https://aka.ms/vscodeJupyterKernelCrash'>here</a> for more info. View Jupyter <a href='command:jupyter.viewOutput'>log</a> for further details."
     ]
    },
    {
     "ename": "",
     "evalue": "",
     "output_type": "error",
     "traceback": [
      "\u001b[1;31mCanceled future for execute_request message before replies were done"
     ]
    }
   ],
   "source": [
    "# sale per customer trends\n",
    "sns.factorplot(data = train, x = 'weekOfYear', y = \"sales\", \n",
    "               col = 'onpromotion', \n",
    "               row = 'transaction',\n",
    "               hue = 'transaction',\n",
    "               palette = 'RdPu') "
   ]
  },
  {
   "cell_type": "markdown",
   "metadata": {
    "_cell_guid": "ace8c30e-7bcf-4b25-9054-6128abe18254",
    "_uuid": "5409f2079ca6dc3b52ca87d140f0616f70ddfc77"
   },
   "source": [
    "## Time-Series Analysis per Store Type"
   ]
  },
  {
   "cell_type": "markdown",
   "metadata": {
    "_cell_guid": "4718aa67-1bf7-4a9c-9ebf-652d3e0a2781",
    "_uuid": "d40a766bed18a78c1b111189a76602df80756277"
   },
   "source": [
    "是什么使时间序列与普通的回归问题不同？\n",
    "\n",
    "- 它是与时间相关的。在这种情况下，线性回归的基本假设，即观测值是独立的，并不成立。\n",
    "- 除了增加或减少的趋势，大多数时间序列都有某种形式的季节性趋势，即特定时间范围内的变化。例如，对于圣诞假期，我们将在这个数据集中看到。"
   ]
  },
  {
   "cell_type": "markdown",
   "metadata": {
    "_cell_guid": "449f5d38-7e71-4dea-92cf-65ca8f303815",
    "_uuid": "804c4c36a2b46f14ecb9f899aaa56d50adb03f43"
   },
   "source": [
    "我们建立了一个关于商店类型而不是单个商店的时间序列分析。这种方法的主要优势在于其简单的表现形式和对数据集中不同趋势和季节性的整体考虑。 "
   ]
  },
  {
   "cell_type": "markdown",
   "metadata": {
    "_cell_guid": "137a404c-aaa6-4ec7-8fbd-6100b1bad7e7",
    "_uuid": "abac6543ac6a34643f54733d5201bddcc5f1ff28"
   },
   "source": [
    "在本节中，我们将分析时间序列数据：其趋势、季节性和自相关。通常在分析的最后，我们能够建立一个季节性的ARIMA（自回归综合移动平均）模型，但这不是我们今天的主要重点。相反，我们试图理解数据，然后才用先知的方法得出预测的结果。\n"
   ]
  },
  {
   "cell_type": "markdown",
   "metadata": {
    "_cell_guid": "de7a8aca-dd58-43c4-8520-2e4dfe436b38",
    "_uuid": "03a62c8f7efec05278f00e03247b41a865470867"
   },
   "source": [
    "### Seasonality"
   ]
  },
  {
   "cell_type": "code",
   "execution_count": 77,
   "metadata": {
    "_cell_guid": "2410d7f1-8f83-42a7-9641-119f4a6ba45e",
    "_uuid": "e37d97e5918982442e141bd647b1f6041065e90a",
    "collapsed": false
   },
   "outputs": [
    {
     "data": {
      "text/plain": [
       "<AxesSubplot:xlabel='date'>"
      ]
     },
     "execution_count": 77,
     "metadata": {},
     "output_type": "execute_result"
    },
    {
     "data": {
      "image/png": "[encoded data removed]",
      "text/plain": [
       "<Figure size 864x936 with 5 Axes>"
      ]
     },
     "metadata": {},
     "output_type": "display_data"
    }
   ],
   "source": [
    "# 分别选择各类中的一个商店看看\n",
    "train = pd.read_csv(\"store-sales-time-series-forecasting/train_store_transaction.csv\", \n",
    "                    parse_dates = True, low_memory = False, index_col = 'date')\n",
    "\n",
    "# preparation: input should be float type\n",
    "# 好聪明的写法\n",
    "train['sales'] = train['sales'] * 1.0\n",
    "\n",
    "# store types\n",
    "sales_a = train[train.store_nbr == 46]['sales']\n",
    "sales_b = train[train.store_nbr == 9]['sales'].sort_index(ascending = True) # solve the reverse order\n",
    "sales_c = train[train.store_nbr == 13]['sales']\n",
    "sales_d = train[train.store_nbr == 4]['sales']\n",
    "sales_e = train[train.store_nbr == 28]['sales']\n",
    "\n",
    "f, (ax1, ax2, ax3, ax4, ax5) = plt.subplots(5, figsize = (12, 13))\n",
    "\n",
    "# store type\n",
    "sales_a.resample('W').sum().plot(color = c, ax = ax1)\n",
    "sales_b.resample('W').sum().plot(color = c, ax = ax2)\n",
    "sales_c.resample('W').sum().plot(color = c, ax = ax3)\n",
    "sales_d.resample('W').sum().plot(color = c, ax = ax4)\n",
    "sales_e.resample('W').sum().plot(color = c, ax = ax5)"
   ]
  },
  {
   "cell_type": "markdown",
   "metadata": {
    "_cell_guid": "1a009654-9d9f-4de8-915b-1739f6d7da2f",
    "_uuid": "9977e3db623314e191be33aa1fea3a355acb4cbe"
   },
   "source": [
    "### Yearly trend"
   ]
  },
  {
   "cell_type": "markdown",
   "metadata": {
    "_cell_guid": "efc27857-abb6-4d70-8002-d7b0b652761d",
    "_uuid": "11848efdae6e532084b784b4023fc142ea799c4e"
   },
   "source": [
    "The next thing to check the presence of a trend in series."
   ]
  },
  {
   "cell_type": "code",
   "execution_count": 78,
   "metadata": {
    "_cell_guid": "622f9853-dcd9-411f-b02d-f27f7f483d78",
    "_uuid": "31cbcd812ed45fd194216dc530ad793b7667089f",
    "collapsed": false
   },
   "outputs": [
    {
     "data": {
      "text/plain": [
       "<AxesSubplot:xlabel='date'>"
      ]
     },
     "execution_count": 78,
     "metadata": {},
     "output_type": "execute_result"
    },
    {
     "data": {
      "image/png": "[encoded data removed]",
      "text/plain": [
       "<Figure size 864x936 with 5 Axes>"
      ]
     },
     "metadata": {},
     "output_type": "display_data"
    }
   ],
   "source": [
    "f, (ax1, ax2, ax3, ax4, ax5) = plt.subplots(5, figsize = (12, 13))\n",
    "\n",
    "# monthly\n",
    "decomposition_a = seasonal_decompose(sales_a, model = 'additive', freq = 365)\n",
    "decomposition_a.trend.plot(color = c, ax = ax1)\n",
    "\n",
    "decomposition_b = seasonal_decompose(sales_b, model = 'additive', freq = 365)\n",
    "decomposition_b.trend.plot(color = c, ax = ax2)\n",
    "\n",
    "decomposition_c = seasonal_decompose(sales_c, model = 'additive', freq = 365)\n",
    "decomposition_c.trend.plot(color = c, ax = ax3)\n",
    "\n",
    "decomposition_d = seasonal_decompose(sales_d, model = 'additive', freq = 365)\n",
    "decomposition_d.trend.plot(color = c, ax = ax4)\n",
    "\n",
    "decomposition_e = seasonal_decompose(sales_e, model = 'additive', freq = 365)\n",
    "decomposition_e.trend.plot(color = c, ax = ax5)"
   ]
  },
  {
   "cell_type": "markdown",
   "metadata": {
    "_cell_guid": "19a39a9a-94bd-426f-b368-ee3174bb9f23",
    "_uuid": "f5f9c4d5c110d7bf77a4eb39936d7e4dc3551cfb"
   },
   "source": [
    "### Autocorrelaion"
   ]
  },
  {
   "cell_type": "markdown",
   "metadata": {
    "_cell_guid": "6484122c-8ca7-4163-bcbd-e5acd61d5596",
    "_uuid": "ffa9084c0d919ccf4ad7fe908f96981d48128a3b"
   },
   "source": [
    "我们时间序列分析的下一步是审查自相关函数（ACF）和部分自相关函数（PACF）图。\n",
    "\n",
    "ACF是对时间序列与自身的滞后版本之间的相关性的衡量。例如，在滞后5年时，ACF将比较瞬间't1'...'tn'的系列与瞬间't1-5'...'tn-5'的系列（t1-5和tn是终点）。\n",
    "\n",
    "另一方面，PACF测量时间序列与自身的滞后版本之间的相关性，但在消除了中间的比较所解释的变化之后。例如，在滞后5期，它将检查相关性，但消除已经由滞后1至4期解释的影响。"
   ]
  },
  {
   "cell_type": "code",
   "execution_count": 90,
   "metadata": {
    "_cell_guid": "ac47d973-e835-499e-81c1-5f94de91fca9",
    "_uuid": "5b37785066879f7f5b190e451721e0ad4dbeb55d",
    "collapsed": false
   },
   "outputs": [
    {
     "data": {
      "image/png": "[encoded data removed]",
      "text/plain": [
       "<Figure size 864x720 with 8 Axes>"
      ]
     },
     "metadata": {},
     "output_type": "display_data"
    }
   ],
   "source": [
    "# figure for subplots\n",
    "plt.figure(figsize = (12, 10))\n",
    "\n",
    "# acf and pacf for A\n",
    "plt.subplot(421); plot_acf(sales_a, lags = 50, ax = plt.gca(), color = c)\n",
    "plt.subplot(422); plot_pacf(sales_a, lags = 50, ax = plt.gca(), color = c)\n",
    "\n",
    "# acf and pacf for B\n",
    "plt.subplot(423); plot_acf(sales_b, lags = 50, ax = plt.gca(), color = c)\n",
    "plt.subplot(424); plot_pacf(sales_b, lags = 50, ax = plt.gca(), color = c)\n",
    "\n",
    "# acf and pacf for C\n",
    "plt.subplot(425); plot_acf(sales_c, lags = 50, ax = plt.gca(), color = c)\n",
    "plt.subplot(426); plot_pacf(sales_c, lags = 50, ax = plt.gca(), color = c)\n",
    "\n",
    "# acf and pacf for D\n",
    "plt.subplot(427); plot_acf(sales_d, lags = 50, ax = plt.gca(), color = c)\n",
    "plt.subplot(428); plot_pacf(sales_d, lags = 50, ax = plt.gca(), color = c)\n",
    "\n",
    "\n",
    "plt.show()"
   ]
  },
  {
   "cell_type": "code",
   "execution_count": 92,
   "metadata": {},
   "outputs": [
    {
     "data": {
      "image/png": "[encoded data removed]",
      "text/plain": [
       "<Figure size 864x720 with 2 Axes>"
      ]
     },
     "metadata": {},
     "output_type": "display_data"
    }
   ],
   "source": [
    "# figure for subplots\n",
    "plt.figure(figsize = (12, 10))\n",
    "\n",
    "# acf and pacf for E\n",
    "plt.subplot(421); plot_acf(sales_e, lags = 50, ax = plt.gca(), color = c)\n",
    "plt.subplot(422); plot_pacf(sales_e, lags = 50, ax = plt.gca(), color = c)\n",
    "\n",
    "\n",
    "plt.show()"
   ]
  },
  {
   "cell_type": "markdown",
   "metadata": {
    "_cell_guid": "fa5ee8f1-3b65-4338-9e39-d1cda1ef811e",
    "_uuid": "b8bf410fb049e377123c7eaa3305a842911997aa"
   },
   "source": [
    "## Time Series Analysis and Forecasting with Prophet\n",
    "#### Forecasting for the next 6 weeks for the first store"
   ]
  },
  {
   "cell_type": "markdown",
   "metadata": {},
   "source": [
    "我们只需要16天就可以了？"
   ]
  },
  {
   "cell_type": "code",
   "execution_count": 25,
   "metadata": {
    "_cell_guid": "d8d98e16-447d-4590-a3e6-05fa3f59417a",
    "_uuid": "c7dfa8eaa64ccdf03e4ff9501799eec497ebbcb2",
    "collapsed": false
   },
   "outputs": [
    {
     "data": {
      "text/plain": [
       "date     datetime64[ns]\n",
       "sales           float64\n",
       "dtype: object"
      ]
     },
     "execution_count": 25,
     "metadata": {},
     "output_type": "execute_result"
    }
   ],
   "source": [
    "# importing data\n",
    "df = pd.read_csv(\"store-sales-time-series-forecasting/train_store_transaction.csv\",  low_memory = False)\n",
    "\n",
    "# remove closed stores and those with no sales\n",
    "# df = df[df['sales'] != 0]\n",
    "\n",
    "# sales for the store number 1 (StoreType C)\n",
    "sales = df[df.store_nbr == 1].loc[:, ['date', 'sales']]\n",
    "\n",
    "# reverse to the order: from 2013 to 2015\n",
    "sales = sales.sort_index(ascending = False)\n",
    "\n",
    "# to datetime64\n",
    "sales['date'] = pd.DatetimeIndex(sales['date'])\n",
    "sales.dtypes"
   ]
  },
  {
   "cell_type": "code",
   "execution_count": 26,
   "metadata": {
    "_cell_guid": "39c9d9a3-8036-4ce6-a1ee-c696cb2e3b90",
    "_uuid": "efd3d7a8e97fe2c1998e4e590de58802b07dcf7e",
    "collapsed": false
   },
   "outputs": [
    {
     "data": {
      "text/html": [
       "<div>\n",
       "<style scoped>\n",
       "    .dataframe tbody tr th:only-of-type {\n",
       "        vertical-align: middle;\n",
       "    }\n",
       "\n",
       "    .dataframe tbody tr th {\n",
       "        vertical-align: top;\n",
       "    }\n",
       "\n",
       "    .dataframe thead th {\n",
       "        text-align: right;\n",
       "    }\n",
       "</style>\n",
       "<table border=\"1\" class=\"dataframe\">\n",
       "  <thead>\n",
       "    <tr style=\"text-align: right;\">\n",
       "      <th></th>\n",
       "      <th>ds</th>\n",
       "      <th>y</th>\n",
       "    </tr>\n",
       "  </thead>\n",
       "  <tbody>\n",
       "    <tr>\n",
       "      <th>2999138</th>\n",
       "      <td>2017-08-15</td>\n",
       "      <td>22.487000</td>\n",
       "    </tr>\n",
       "    <tr>\n",
       "      <th>2999137</th>\n",
       "      <td>2017-08-15</td>\n",
       "      <td>0.000000</td>\n",
       "    </tr>\n",
       "    <tr>\n",
       "      <th>2999136</th>\n",
       "      <td>2017-08-15</td>\n",
       "      <td>2240.230000</td>\n",
       "    </tr>\n",
       "    <tr>\n",
       "      <th>2999135</th>\n",
       "      <td>2017-08-15</td>\n",
       "      <td>42.822998</td>\n",
       "    </tr>\n",
       "    <tr>\n",
       "      <th>2999134</th>\n",
       "      <td>2017-08-15</td>\n",
       "      <td>234.892000</td>\n",
       "    </tr>\n",
       "  </tbody>\n",
       "</table>\n",
       "</div>"
      ],
      "text/plain": [
       "                ds            y\n",
       "2999138 2017-08-15    22.487000\n",
       "2999137 2017-08-15     0.000000\n",
       "2999136 2017-08-15  2240.230000\n",
       "2999135 2017-08-15    42.822998\n",
       "2999134 2017-08-15   234.892000"
      ]
     },
     "execution_count": 26,
     "metadata": {},
     "output_type": "execute_result"
    }
   ],
   "source": [
    "# from the prophet documentation every variables should have specific names\n",
    "sales = sales.rename(columns = {'date': 'ds',\n",
    "                                'sales': 'y'})\n",
    "sales.head()"
   ]
  },
  {
   "cell_type": "code",
   "execution_count": 27,
   "metadata": {
    "_cell_guid": "f2b15a8a-c7be-4135-a8c2-3f6f0b28ba41",
    "_uuid": "fd790644cbd4c52ff936811cfa729b92a2c208ed",
    "collapsed": false
   },
   "outputs": [
    {
     "data": {
      "image/png": "[encoded data removed]",
      "text/plain": [
       "<Figure size 1440x288 with 1 Axes>"
      ]
     },
     "metadata": {
      "needs_background": "light"
     },
     "output_type": "display_data"
    }
   ],
   "source": [
    "# plot daily sales\n",
    "ax = sales.set_index('ds').plot(figsize = (20, 4))\n",
    "ax.set_ylabel('Daily Number of Sales')\n",
    "ax.set_xlabel('date')\n",
    "plt.show()\n",
    "#\n"
   ]
  },
  {
   "cell_type": "markdown",
   "metadata": {
    "_cell_guid": "c3595dde-c625-4412-a242-08030b3d10e0",
    "_uuid": "181e060488627fb055399998a50f759538ecb441"
   },
   "source": [
    "### Modeling Holidays"
   ]
  },
  {
   "cell_type": "markdown",
   "metadata": {
    "_cell_guid": "d6b49863-b009-4e68-a4c9-916f1fc56739",
    "_uuid": "d99df9e8487b8feff43d940fc8d436f2c236b501"
   },
   "source": [
    "Prophet also allows to [model for holidays](https://facebookincubator.github.io/prophet/docs/holiday_effects.html), and that's what we do here.\n",
    "\n",
    "数据集中的StateHoliday变量表示一个州的假日，在这个假日所有的商店通常都会关门。数据集中还有学校假期，在这些假期中，某些商店也会关门。\n"
   ]
  },
  {
   "cell_type": "code",
   "execution_count": 28,
   "metadata": {},
   "outputs": [],
   "source": [
    "holiday_df = pd.read_csv(\"store-sales-time-series-forecasting/holidays_events.csv\")\n",
    "holiday_df.head()\n",
    "\n",
    "# 整一个跟上面一样的ds\n",
    "state = []\n",
    "for date in holiday_df.date:\n",
    "    try:\n",
    "        type = holiday_df[holiday_df.date == date].type\n",
    "        locale = holiday_df[holiday_df.date == date].locale\n",
    "        if((type.any() == 'Holiday') and (locale.any() == 'Regional')):\n",
    "            state.append('state_holiday')\n",
    "        else:\n",
    "            state.append('not_holiday')\n",
    "    except:\n",
    "        state.append('not_holiday')\n",
    "\n",
    "holiday_df['holiday'] = state"
   ]
  },
  {
   "cell_type": "code",
   "execution_count": 29,
   "metadata": {},
   "outputs": [
    {
     "data": {
      "text/html": [
       "<div>\n",
       "<style scoped>\n",
       "    .dataframe tbody tr th:only-of-type {\n",
       "        vertical-align: middle;\n",
       "    }\n",
       "\n",
       "    .dataframe tbody tr th {\n",
       "        vertical-align: top;\n",
       "    }\n",
       "\n",
       "    .dataframe thead th {\n",
       "        text-align: right;\n",
       "    }\n",
       "</style>\n",
       "<table border=\"1\" class=\"dataframe\">\n",
       "  <thead>\n",
       "    <tr style=\"text-align: right;\">\n",
       "      <th></th>\n",
       "      <th>date</th>\n",
       "      <th>holiday</th>\n",
       "    </tr>\n",
       "  </thead>\n",
       "  <tbody>\n",
       "    <tr>\n",
       "      <th>1</th>\n",
       "      <td>2012-04-01</td>\n",
       "      <td>state_holiday</td>\n",
       "    </tr>\n",
       "    <tr>\n",
       "      <th>7</th>\n",
       "      <td>2012-06-25</td>\n",
       "      <td>state_holiday</td>\n",
       "    </tr>\n",
       "    <tr>\n",
       "      <th>8</th>\n",
       "      <td>2012-06-25</td>\n",
       "      <td>state_holiday</td>\n",
       "    </tr>\n",
       "    <tr>\n",
       "      <th>9</th>\n",
       "      <td>2012-06-25</td>\n",
       "      <td>state_holiday</td>\n",
       "    </tr>\n",
       "    <tr>\n",
       "      <th>23</th>\n",
       "      <td>2012-11-06</td>\n",
       "      <td>state_holiday</td>\n",
       "    </tr>\n",
       "  </tbody>\n",
       "</table>\n",
       "</div>"
      ],
      "text/plain": [
       "          date        holiday\n",
       "1   2012-04-01  state_holiday\n",
       "7   2012-06-25  state_holiday\n",
       "8   2012-06-25  state_holiday\n",
       "9   2012-06-25  state_holiday\n",
       "23  2012-11-06  state_holiday"
      ]
     },
     "execution_count": 29,
     "metadata": {},
     "output_type": "execute_result"
    }
   ],
   "source": [
    "holidays = holiday_df[holiday_df.holiday == 'state_holiday']\n",
    "holidays = holidays.drop(['type', 'locale', 'locale_name', 'description', 'transferred'], axis = 1)\n",
    "holidays.head()"
   ]
  },
  {
   "cell_type": "code",
   "execution_count": 30,
   "metadata": {},
   "outputs": [
    {
     "data": {
      "text/html": [
       "<div>\n",
       "<style scoped>\n",
       "    .dataframe tbody tr th:only-of-type {\n",
       "        vertical-align: middle;\n",
       "    }\n",
       "\n",
       "    .dataframe tbody tr th {\n",
       "        vertical-align: top;\n",
       "    }\n",
       "\n",
       "    .dataframe thead th {\n",
       "        text-align: right;\n",
       "    }\n",
       "</style>\n",
       "<table border=\"1\" class=\"dataframe\">\n",
       "  <thead>\n",
       "    <tr style=\"text-align: right;\">\n",
       "      <th></th>\n",
       "      <th>ds</th>\n",
       "      <th>holiday</th>\n",
       "    </tr>\n",
       "  </thead>\n",
       "  <tbody>\n",
       "    <tr>\n",
       "      <th>1</th>\n",
       "      <td>2012-04-01</td>\n",
       "      <td>state_holiday</td>\n",
       "    </tr>\n",
       "    <tr>\n",
       "      <th>7</th>\n",
       "      <td>2012-06-25</td>\n",
       "      <td>state_holiday</td>\n",
       "    </tr>\n",
       "    <tr>\n",
       "      <th>8</th>\n",
       "      <td>2012-06-25</td>\n",
       "      <td>state_holiday</td>\n",
       "    </tr>\n",
       "    <tr>\n",
       "      <th>9</th>\n",
       "      <td>2012-06-25</td>\n",
       "      <td>state_holiday</td>\n",
       "    </tr>\n",
       "    <tr>\n",
       "      <th>23</th>\n",
       "      <td>2012-11-06</td>\n",
       "      <td>state_holiday</td>\n",
       "    </tr>\n",
       "  </tbody>\n",
       "</table>\n",
       "</div>"
      ],
      "text/plain": [
       "            ds        holiday\n",
       "1   2012-04-01  state_holiday\n",
       "7   2012-06-25  state_holiday\n",
       "8   2012-06-25  state_holiday\n",
       "9   2012-06-25  state_holiday\n",
       "23  2012-11-06  state_holiday"
      ]
     },
     "execution_count": 30,
     "metadata": {},
     "output_type": "execute_result"
    }
   ],
   "source": [
    "holidays = holidays.rename(columns={'date': 'ds'})\n",
    "holidays.head()"
   ]
  },
  {
   "cell_type": "code",
   "execution_count": 31,
   "metadata": {},
   "outputs": [
    {
     "data": {
      "text/html": [
       "<div>\n",
       "<style scoped>\n",
       "    .dataframe tbody tr th:only-of-type {\n",
       "        vertical-align: middle;\n",
       "    }\n",
       "\n",
       "    .dataframe tbody tr th {\n",
       "        vertical-align: top;\n",
       "    }\n",
       "\n",
       "    .dataframe thead th {\n",
       "        text-align: right;\n",
       "    }\n",
       "</style>\n",
       "<table border=\"1\" class=\"dataframe\">\n",
       "  <thead>\n",
       "    <tr style=\"text-align: right;\">\n",
       "      <th></th>\n",
       "      <th>id</th>\n",
       "      <th>date</th>\n",
       "      <th>store_nbr</th>\n",
       "      <th>family</th>\n",
       "      <th>onpromotion</th>\n",
       "    </tr>\n",
       "  </thead>\n",
       "  <tbody>\n",
       "    <tr>\n",
       "      <th>0</th>\n",
       "      <td>3000888</td>\n",
       "      <td>2017-08-16</td>\n",
       "      <td>1</td>\n",
       "      <td>AUTOMOTIVE</td>\n",
       "      <td>0</td>\n",
       "    </tr>\n",
       "    <tr>\n",
       "      <th>1</th>\n",
       "      <td>3000889</td>\n",
       "      <td>2017-08-16</td>\n",
       "      <td>1</td>\n",
       "      <td>BABY CARE</td>\n",
       "      <td>0</td>\n",
       "    </tr>\n",
       "    <tr>\n",
       "      <th>2</th>\n",
       "      <td>3000890</td>\n",
       "      <td>2017-08-16</td>\n",
       "      <td>1</td>\n",
       "      <td>BEAUTY</td>\n",
       "      <td>2</td>\n",
       "    </tr>\n",
       "    <tr>\n",
       "      <th>3</th>\n",
       "      <td>3000891</td>\n",
       "      <td>2017-08-16</td>\n",
       "      <td>1</td>\n",
       "      <td>BEVERAGES</td>\n",
       "      <td>20</td>\n",
       "    </tr>\n",
       "    <tr>\n",
       "      <th>4</th>\n",
       "      <td>3000892</td>\n",
       "      <td>2017-08-16</td>\n",
       "      <td>1</td>\n",
       "      <td>BOOKS</td>\n",
       "      <td>0</td>\n",
       "    </tr>\n",
       "  </tbody>\n",
       "</table>\n",
       "</div>"
      ],
      "text/plain": [
       "        id        date  store_nbr      family  onpromotion\n",
       "0  3000888  2017-08-16          1  AUTOMOTIVE            0\n",
       "1  3000889  2017-08-16          1   BABY CARE            0\n",
       "2  3000890  2017-08-16          1      BEAUTY            2\n",
       "3  3000891  2017-08-16          1   BEVERAGES           20\n",
       "4  3000892  2017-08-16          1       BOOKS            0"
      ]
     },
     "execution_count": 31,
     "metadata": {},
     "output_type": "execute_result"
    }
   ],
   "source": [
    "test = pd.read_csv(\"store-sales-time-series-forecasting/test.csv\", low_memory = False)\n",
    "test.head()"
   ]
  },
  {
   "cell_type": "code",
   "execution_count": 32,
   "metadata": {},
   "outputs": [],
   "source": [
    "my_submission = pd.read_csv(\"store-sales-time-series-forecasting/sample_submission.csv\", low_memory = False)\n",
    "\n",
    "# 只与test的id是关联的"
   ]
  },
  {
   "cell_type": "code",
   "execution_count": null,
   "metadata": {},
   "outputs": [],
   "source": [
    "my_model = Prophet(interval_width = 0.95, holidays = holidays, daily_seasonality=True)\n",
    "my_model.fit(sales)\n",
    "\n",
    "future_dates = my_model.make_future_dataframe(periods = 6*7)\n",
    "\n",
    "future_dates"
   ]
  },
  {
   "cell_type": "code",
   "execution_count": 34,
   "metadata": {},
   "outputs": [
    {
     "data": {
      "text/html": [
       "<div>\n",
       "<style scoped>\n",
       "    .dataframe tbody tr th:only-of-type {\n",
       "        vertical-align: middle;\n",
       "    }\n",
       "\n",
       "    .dataframe tbody tr th {\n",
       "        vertical-align: top;\n",
       "    }\n",
       "\n",
       "    .dataframe thead th {\n",
       "        text-align: right;\n",
       "    }\n",
       "</style>\n",
       "<table border=\"1\" class=\"dataframe\">\n",
       "  <thead>\n",
       "    <tr style=\"text-align: right;\">\n",
       "      <th></th>\n",
       "      <th>id</th>\n",
       "      <th>date</th>\n",
       "      <th>store_nbr</th>\n",
       "      <th>family</th>\n",
       "      <th>onpromotion</th>\n",
       "      <th>prediction</th>\n",
       "    </tr>\n",
       "  </thead>\n",
       "  <tbody>\n",
       "    <tr>\n",
       "      <th>0</th>\n",
       "      <td>3000888</td>\n",
       "      <td>2017-08-16</td>\n",
       "      <td>1</td>\n",
       "      <td>AUTOMOTIVE</td>\n",
       "      <td>0</td>\n",
       "      <td>0</td>\n",
       "    </tr>\n",
       "    <tr>\n",
       "      <th>1</th>\n",
       "      <td>3000889</td>\n",
       "      <td>2017-08-16</td>\n",
       "      <td>1</td>\n",
       "      <td>BABY CARE</td>\n",
       "      <td>0</td>\n",
       "      <td>0</td>\n",
       "    </tr>\n",
       "    <tr>\n",
       "      <th>2</th>\n",
       "      <td>3000890</td>\n",
       "      <td>2017-08-16</td>\n",
       "      <td>1</td>\n",
       "      <td>BEAUTY</td>\n",
       "      <td>2</td>\n",
       "      <td>0</td>\n",
       "    </tr>\n",
       "    <tr>\n",
       "      <th>3</th>\n",
       "      <td>3000891</td>\n",
       "      <td>2017-08-16</td>\n",
       "      <td>1</td>\n",
       "      <td>BEVERAGES</td>\n",
       "      <td>20</td>\n",
       "      <td>0</td>\n",
       "    </tr>\n",
       "    <tr>\n",
       "      <th>4</th>\n",
       "      <td>3000892</td>\n",
       "      <td>2017-08-16</td>\n",
       "      <td>1</td>\n",
       "      <td>BOOKS</td>\n",
       "      <td>0</td>\n",
       "      <td>0</td>\n",
       "    </tr>\n",
       "    <tr>\n",
       "      <th>...</th>\n",
       "      <td>...</td>\n",
       "      <td>...</td>\n",
       "      <td>...</td>\n",
       "      <td>...</td>\n",
       "      <td>...</td>\n",
       "      <td>...</td>\n",
       "    </tr>\n",
       "    <tr>\n",
       "      <th>28507</th>\n",
       "      <td>3029395</td>\n",
       "      <td>2017-08-31</td>\n",
       "      <td>9</td>\n",
       "      <td>POULTRY</td>\n",
       "      <td>1</td>\n",
       "      <td>0</td>\n",
       "    </tr>\n",
       "    <tr>\n",
       "      <th>28508</th>\n",
       "      <td>3029396</td>\n",
       "      <td>2017-08-31</td>\n",
       "      <td>9</td>\n",
       "      <td>PREPARED FOODS</td>\n",
       "      <td>0</td>\n",
       "      <td>0</td>\n",
       "    </tr>\n",
       "    <tr>\n",
       "      <th>28509</th>\n",
       "      <td>3029397</td>\n",
       "      <td>2017-08-31</td>\n",
       "      <td>9</td>\n",
       "      <td>PRODUCE</td>\n",
       "      <td>1</td>\n",
       "      <td>0</td>\n",
       "    </tr>\n",
       "    <tr>\n",
       "      <th>28510</th>\n",
       "      <td>3029398</td>\n",
       "      <td>2017-08-31</td>\n",
       "      <td>9</td>\n",
       "      <td>SCHOOL AND OFFICE SUPPLIES</td>\n",
       "      <td>9</td>\n",
       "      <td>0</td>\n",
       "    </tr>\n",
       "    <tr>\n",
       "      <th>28511</th>\n",
       "      <td>3029399</td>\n",
       "      <td>2017-08-31</td>\n",
       "      <td>9</td>\n",
       "      <td>SEAFOOD</td>\n",
       "      <td>0</td>\n",
       "      <td>0</td>\n",
       "    </tr>\n",
       "  </tbody>\n",
       "</table>\n",
       "<p>28512 rows × 6 columns</p>\n",
       "</div>"
      ],
      "text/plain": [
       "            id        date  store_nbr                      family  \\\n",
       "0      3000888  2017-08-16          1                  AUTOMOTIVE   \n",
       "1      3000889  2017-08-16          1                   BABY CARE   \n",
       "2      3000890  2017-08-16          1                      BEAUTY   \n",
       "3      3000891  2017-08-16          1                   BEVERAGES   \n",
       "4      3000892  2017-08-16          1                       BOOKS   \n",
       "...        ...         ...        ...                         ...   \n",
       "28507  3029395  2017-08-31          9                     POULTRY   \n",
       "28508  3029396  2017-08-31          9              PREPARED FOODS   \n",
       "28509  3029397  2017-08-31          9                     PRODUCE   \n",
       "28510  3029398  2017-08-31          9  SCHOOL AND OFFICE SUPPLIES   \n",
       "28511  3029399  2017-08-31          9                     SEAFOOD   \n",
       "\n",
       "       onpromotion  prediction  \n",
       "0                0           0  \n",
       "1                0           0  \n",
       "2                2           0  \n",
       "3               20           0  \n",
       "4                0           0  \n",
       "...            ...         ...  \n",
       "28507            1           0  \n",
       "28508            0           0  \n",
       "28509            1           0  \n",
       "28510            9           0  \n",
       "28511            0           0  \n",
       "\n",
       "[28512 rows x 6 columns]"
      ]
     },
     "execution_count": 34,
     "metadata": {},
     "output_type": "execute_result"
    }
   ],
   "source": [
    "test['prediction'] = [0]*len(test)\n",
    "test"
   ]
  },
  {
   "cell_type": "code",
   "execution_count": 15,
   "metadata": {},
   "outputs": [
    {
     "data": {
      "text/html": [
       "<div>\n",
       "<style scoped>\n",
       "    .dataframe tbody tr th:only-of-type {\n",
       "        vertical-align: middle;\n",
       "    }\n",
       "\n",
       "    .dataframe tbody tr th {\n",
       "        vertical-align: top;\n",
       "    }\n",
       "\n",
       "    .dataframe thead th {\n",
       "        text-align: right;\n",
       "    }\n",
       "</style>\n",
       "<table border=\"1\" class=\"dataframe\">\n",
       "  <thead>\n",
       "    <tr style=\"text-align: right;\">\n",
       "      <th></th>\n",
       "      <th>id</th>\n",
       "      <th>date</th>\n",
       "      <th>store_nbr</th>\n",
       "      <th>family</th>\n",
       "      <th>onpromotion</th>\n",
       "    </tr>\n",
       "  </thead>\n",
       "  <tbody>\n",
       "    <tr>\n",
       "      <th>0</th>\n",
       "      <td>3000888</td>\n",
       "      <td>2017-08-16</td>\n",
       "      <td>1</td>\n",
       "      <td>AUTOMOTIVE</td>\n",
       "      <td>0</td>\n",
       "    </tr>\n",
       "    <tr>\n",
       "      <th>1</th>\n",
       "      <td>3000889</td>\n",
       "      <td>2017-08-16</td>\n",
       "      <td>1</td>\n",
       "      <td>BABY CARE</td>\n",
       "      <td>0</td>\n",
       "    </tr>\n",
       "    <tr>\n",
       "      <th>2</th>\n",
       "      <td>3000890</td>\n",
       "      <td>2017-08-16</td>\n",
       "      <td>1</td>\n",
       "      <td>BEAUTY</td>\n",
       "      <td>2</td>\n",
       "    </tr>\n",
       "    <tr>\n",
       "      <th>3</th>\n",
       "      <td>3000891</td>\n",
       "      <td>2017-08-16</td>\n",
       "      <td>1</td>\n",
       "      <td>BEVERAGES</td>\n",
       "      <td>20</td>\n",
       "    </tr>\n",
       "    <tr>\n",
       "      <th>4</th>\n",
       "      <td>3000892</td>\n",
       "      <td>2017-08-16</td>\n",
       "      <td>1</td>\n",
       "      <td>BOOKS</td>\n",
       "      <td>0</td>\n",
       "    </tr>\n",
       "  </tbody>\n",
       "</table>\n",
       "</div>"
      ],
      "text/plain": [
       "        id        date  store_nbr      family  onpromotion\n",
       "0  3000888  2017-08-16          1  AUTOMOTIVE            0\n",
       "1  3000889  2017-08-16          1   BABY CARE            0\n",
       "2  3000890  2017-08-16          1      BEAUTY            2\n",
       "3  3000891  2017-08-16          1   BEVERAGES           20\n",
       "4  3000892  2017-08-16          1       BOOKS            0"
      ]
     },
     "execution_count": 15,
     "metadata": {},
     "output_type": "execute_result"
    }
   ],
   "source": [
    "test.head()"
   ]
  },
  {
   "cell_type": "code",
   "execution_count": 35,
   "metadata": {
    "_cell_guid": "796c0e2a-c659-4c18-991c-2b209a767ee4",
    "_uuid": "ec11e1fcbb72d098a8e8c28657888243746f3fcf",
    "collapsed": false
   },
   "outputs": [
    {
     "data": {
      "text/html": [
       "<div>\n",
       "<style scoped>\n",
       "    .dataframe tbody tr th:only-of-type {\n",
       "        vertical-align: middle;\n",
       "    }\n",
       "\n",
       "    .dataframe tbody tr th {\n",
       "        vertical-align: top;\n",
       "    }\n",
       "\n",
       "    .dataframe thead th {\n",
       "        text-align: right;\n",
       "    }\n",
       "</style>\n",
       "<table border=\"1\" class=\"dataframe\">\n",
       "  <thead>\n",
       "    <tr style=\"text-align: right;\">\n",
       "      <th></th>\n",
       "      <th>id</th>\n",
       "      <th>date</th>\n",
       "      <th>store_nbr</th>\n",
       "      <th>family</th>\n",
       "      <th>onpromotion</th>\n",
       "      <th>prediction</th>\n",
       "    </tr>\n",
       "  </thead>\n",
       "  <tbody>\n",
       "    <tr>\n",
       "      <th>0</th>\n",
       "      <td>3000888</td>\n",
       "      <td>2017-08-16</td>\n",
       "      <td>1</td>\n",
       "      <td>AUTOMOTIVE</td>\n",
       "      <td>0</td>\n",
       "      <td>0</td>\n",
       "    </tr>\n",
       "    <tr>\n",
       "      <th>1</th>\n",
       "      <td>3000889</td>\n",
       "      <td>2017-08-16</td>\n",
       "      <td>1</td>\n",
       "      <td>BABY CARE</td>\n",
       "      <td>0</td>\n",
       "      <td>0</td>\n",
       "    </tr>\n",
       "    <tr>\n",
       "      <th>2</th>\n",
       "      <td>3000890</td>\n",
       "      <td>2017-08-16</td>\n",
       "      <td>1</td>\n",
       "      <td>BEAUTY</td>\n",
       "      <td>2</td>\n",
       "      <td>0</td>\n",
       "    </tr>\n",
       "    <tr>\n",
       "      <th>3</th>\n",
       "      <td>3000891</td>\n",
       "      <td>2017-08-16</td>\n",
       "      <td>1</td>\n",
       "      <td>BEVERAGES</td>\n",
       "      <td>20</td>\n",
       "      <td>0</td>\n",
       "    </tr>\n",
       "    <tr>\n",
       "      <th>4</th>\n",
       "      <td>3000892</td>\n",
       "      <td>2017-08-16</td>\n",
       "      <td>1</td>\n",
       "      <td>BOOKS</td>\n",
       "      <td>0</td>\n",
       "      <td>0</td>\n",
       "    </tr>\n",
       "  </tbody>\n",
       "</table>\n",
       "</div>"
      ],
      "text/plain": [
       "        id        date  store_nbr      family  onpromotion  prediction\n",
       "0  3000888  2017-08-16          1  AUTOMOTIVE            0           0\n",
       "1  3000889  2017-08-16          1   BABY CARE            0           0\n",
       "2  3000890  2017-08-16          1      BEAUTY            2           0\n",
       "3  3000891  2017-08-16          1   BEVERAGES           20           0\n",
       "4  3000892  2017-08-16          1       BOOKS            0           0"
      ]
     },
     "execution_count": 35,
     "metadata": {},
     "output_type": "execute_result"
    }
   ],
   "source": [
    "# 需要分成33个family来预测\n",
    "for good in df.family.unique():\n",
    "    # 应该是共33轮，我们直接每次把family取成一个新的df\n",
    "    for store_nbr in df.store_nbr.unique():\n",
    "        # 每个family中每个store_nbr取成一个新的sales\n",
    "        sales = df[(df.store_nbr == store_nbr) & (df.family == good)].loc[:, ['date', 'sales']]\n",
    "        # reverse to the order: from 2013 to 2015\n",
    "        sales = sales.sort_index(ascending=False)\n",
    "        # to datetime64\n",
    "        sales['date'] = pd.DatetimeIndex(sales['date'])\n",
    "        sales = sales.rename(columns={'date': 'ds', 'sales': 'y'})\n",
    "        # set the uncertainty interval to 95% (the Prophet default is 80%)\n",
    "        try:\n",
    "            my_model = Prophet(interval_width=0.95,\n",
    "                            holidays=holidays, daily_seasonality=True, yearly_seasonality=True, weekly_seasonality=True)\n",
    "            my_model.fit(sales)\n",
    "            future_dates = pd.DataFrame(test.date.unique(), columns=['ds'])\n",
    "            # future_dates = future_dates.rename(columns = {0: 'ds'})\n",
    "            # print(future_dates)\n",
    "            forecast = my_model.predict(future_dates)\n",
    "            fc = forecast[['ds', 'yhat']].rename(\n",
    "                columns={'date': 'ds', 'forecast': 'yhat'})\n",
    "            goodname = good.replace('/', '-')\n",
    "            fc.to_csv('fc/forecast_' + str(goodname) + '_' + str(store_nbr) + '.csv')\n",
    "            # merge with the test data\n",
    "            # 相等值要有3个：date, store_nbr, family\n",
    "            df['date'] = df['date'].astype(str)\n",
    "            fc['ds'] = fc['ds'].astype(str)\n",
    "            for ds in fc.ds:\n",
    "                test[((test.date == str(ds)) & (test.store_nbr == str(store_nbr)))\n",
    "                    & (test.family == str(good))].prediction = fc[fc.ds == ds].yhat\n",
    "        except:\n",
    "            print(store_nbr, good)\n",
    "test.head()"
   ]
  },
  {
   "cell_type": "code",
   "execution_count": 40,
   "metadata": {},
   "outputs": [
    {
     "data": {
      "text/plain": [
       "1782"
      ]
     },
     "execution_count": 40,
     "metadata": {},
     "output_type": "execute_result"
    }
   ],
   "source": [
    "len(df.family.unique()) * len(df.store_nbr.unique())"
   ]
  },
  {
   "cell_type": "code",
   "execution_count": 51,
   "metadata": {},
   "outputs": [
    {
     "data": {
      "text/plain": [
       "{'ds': [], 'family': [], 'store_nbr': [], 'prediction': []}"
      ]
     },
     "execution_count": 51,
     "metadata": {},
     "output_type": "execute_result"
    }
   ],
   "source": [
    "# 晚上想办法把这个这样读进去吧，别的方法看来不太行\n",
    "prediction = [0] * len(test)\n",
    "# 做一个新的prediction dataframe(含date，family，nbr)然后拼进去。再跟submission拼一下\n",
    "\n",
    "pre = {\n",
    "    'ds': [],\n",
    "    'family': [],\n",
    "    'store_nbr': [],\n",
    "    'prediction': []\n",
    "}\n",
    "pre"
   ]
  },
  {
   "cell_type": "code",
   "execution_count": null,
   "metadata": {},
   "outputs": [],
   "source": [
    "import os\n",
    "for file in os.listdir('fc'):\n",
    "    file = file.split(\"_\")\n",
    "    file[2] = file[2].strip(\".csv\")\n",
    "    print(file)\n",
    "    df = pd.read_csv('fc/' + file[0] + '_' + file[1] + '_' + file[2] + '.csv')\n",
    "    file[1] = file[1].replace('-', '/')\n",
    "    for row in df.itertuples():\n",
    "        pre['ds'].append(getattr(row, \"ds\"))\n",
    "        pre['family'].append(file[1])\n",
    "        pre['store_nbr'].append(file[2])\n",
    "        pre['prediction'].append(getattr(row, \"yhat\"))\n",
    "\n",
    "pre\n"
   ]
  },
  {
   "cell_type": "code",
   "execution_count": 55,
   "metadata": {},
   "outputs": [
    {
     "data": {
      "text/html": [
       "<div>\n",
       "<style scoped>\n",
       "    .dataframe tbody tr th:only-of-type {\n",
       "        vertical-align: middle;\n",
       "    }\n",
       "\n",
       "    .dataframe tbody tr th {\n",
       "        vertical-align: top;\n",
       "    }\n",
       "\n",
       "    .dataframe thead th {\n",
       "        text-align: right;\n",
       "    }\n",
       "</style>\n",
       "<table border=\"1\" class=\"dataframe\">\n",
       "  <thead>\n",
       "    <tr style=\"text-align: right;\">\n",
       "      <th></th>\n",
       "      <th>ds</th>\n",
       "      <th>family</th>\n",
       "      <th>store_nbr</th>\n",
       "      <th>prediction</th>\n",
       "    </tr>\n",
       "  </thead>\n",
       "  <tbody>\n",
       "    <tr>\n",
       "      <th>0</th>\n",
       "      <td>2017-08-16</td>\n",
       "      <td>PLAYERS AND ELECTRONICS</td>\n",
       "      <td>46</td>\n",
       "      <td>42.378574</td>\n",
       "    </tr>\n",
       "    <tr>\n",
       "      <th>1</th>\n",
       "      <td>2017-08-17</td>\n",
       "      <td>PLAYERS AND ELECTRONICS</td>\n",
       "      <td>46</td>\n",
       "      <td>41.283679</td>\n",
       "    </tr>\n",
       "    <tr>\n",
       "      <th>2</th>\n",
       "      <td>2017-08-18</td>\n",
       "      <td>PLAYERS AND ELECTRONICS</td>\n",
       "      <td>46</td>\n",
       "      <td>43.188559</td>\n",
       "    </tr>\n",
       "    <tr>\n",
       "      <th>3</th>\n",
       "      <td>2017-08-19</td>\n",
       "      <td>PLAYERS AND ELECTRONICS</td>\n",
       "      <td>46</td>\n",
       "      <td>53.578544</td>\n",
       "    </tr>\n",
       "    <tr>\n",
       "      <th>4</th>\n",
       "      <td>2017-08-20</td>\n",
       "      <td>PLAYERS AND ELECTRONICS</td>\n",
       "      <td>46</td>\n",
       "      <td>57.810559</td>\n",
       "    </tr>\n",
       "    <tr>\n",
       "      <th>...</th>\n",
       "      <td>...</td>\n",
       "      <td>...</td>\n",
       "      <td>...</td>\n",
       "      <td>...</td>\n",
       "    </tr>\n",
       "    <tr>\n",
       "      <th>28763</th>\n",
       "      <td>2017-08-27</td>\n",
       "      <td>DAIRY</td>\n",
       "      <td>45</td>\n",
       "      <td>3473.641685</td>\n",
       "    </tr>\n",
       "    <tr>\n",
       "      <th>28764</th>\n",
       "      <td>2017-08-28</td>\n",
       "      <td>DAIRY</td>\n",
       "      <td>45</td>\n",
       "      <td>2390.747635</td>\n",
       "    </tr>\n",
       "    <tr>\n",
       "      <th>28765</th>\n",
       "      <td>2017-08-29</td>\n",
       "      <td>DAIRY</td>\n",
       "      <td>45</td>\n",
       "      <td>2093.458269</td>\n",
       "    </tr>\n",
       "    <tr>\n",
       "      <th>28766</th>\n",
       "      <td>2017-08-30</td>\n",
       "      <td>DAIRY</td>\n",
       "      <td>45</td>\n",
       "      <td>2279.545740</td>\n",
       "    </tr>\n",
       "    <tr>\n",
       "      <th>28767</th>\n",
       "      <td>2017-08-31</td>\n",
       "      <td>DAIRY</td>\n",
       "      <td>45</td>\n",
       "      <td>1950.630305</td>\n",
       "    </tr>\n",
       "  </tbody>\n",
       "</table>\n",
       "<p>28768 rows × 4 columns</p>\n",
       "</div>"
      ],
      "text/plain": [
       "               ds                   family store_nbr   prediction\n",
       "0      2017-08-16  PLAYERS AND ELECTRONICS        46    42.378574\n",
       "1      2017-08-17  PLAYERS AND ELECTRONICS        46    41.283679\n",
       "2      2017-08-18  PLAYERS AND ELECTRONICS        46    43.188559\n",
       "3      2017-08-19  PLAYERS AND ELECTRONICS        46    53.578544\n",
       "4      2017-08-20  PLAYERS AND ELECTRONICS        46    57.810559\n",
       "...           ...                      ...       ...          ...\n",
       "28763  2017-08-27                    DAIRY        45  3473.641685\n",
       "28764  2017-08-28                    DAIRY        45  2390.747635\n",
       "28765  2017-08-29                    DAIRY        45  2093.458269\n",
       "28766  2017-08-30                    DAIRY        45  2279.545740\n",
       "28767  2017-08-31                    DAIRY        45  1950.630305\n",
       "\n",
       "[28768 rows x 4 columns]"
      ]
     },
     "execution_count": 55,
     "metadata": {},
     "output_type": "execute_result"
    }
   ],
   "source": [
    "prediction = pd.DataFrame(pre)\n",
    "prediction"
   ]
  },
  {
   "cell_type": "code",
   "execution_count": 58,
   "metadata": {},
   "outputs": [
    {
     "data": {
      "text/html": [
       "<div>\n",
       "<style scoped>\n",
       "    .dataframe tbody tr th:only-of-type {\n",
       "        vertical-align: middle;\n",
       "    }\n",
       "\n",
       "    .dataframe tbody tr th {\n",
       "        vertical-align: top;\n",
       "    }\n",
       "\n",
       "    .dataframe thead th {\n",
       "        text-align: right;\n",
       "    }\n",
       "</style>\n",
       "<table border=\"1\" class=\"dataframe\">\n",
       "  <thead>\n",
       "    <tr style=\"text-align: right;\">\n",
       "      <th></th>\n",
       "      <th>id</th>\n",
       "      <th>ds</th>\n",
       "      <th>store_nbr</th>\n",
       "      <th>family</th>\n",
       "      <th>onpromotion</th>\n",
       "      <th>prediction</th>\n",
       "    </tr>\n",
       "  </thead>\n",
       "  <tbody>\n",
       "    <tr>\n",
       "      <th>0</th>\n",
       "      <td>3000888</td>\n",
       "      <td>2017-08-16</td>\n",
       "      <td>1</td>\n",
       "      <td>AUTOMOTIVE</td>\n",
       "      <td>0</td>\n",
       "      <td>0</td>\n",
       "    </tr>\n",
       "    <tr>\n",
       "      <th>1</th>\n",
       "      <td>3000889</td>\n",
       "      <td>2017-08-16</td>\n",
       "      <td>1</td>\n",
       "      <td>BABY CARE</td>\n",
       "      <td>0</td>\n",
       "      <td>0</td>\n",
       "    </tr>\n",
       "    <tr>\n",
       "      <th>2</th>\n",
       "      <td>3000890</td>\n",
       "      <td>2017-08-16</td>\n",
       "      <td>1</td>\n",
       "      <td>BEAUTY</td>\n",
       "      <td>2</td>\n",
       "      <td>0</td>\n",
       "    </tr>\n",
       "    <tr>\n",
       "      <th>3</th>\n",
       "      <td>3000891</td>\n",
       "      <td>2017-08-16</td>\n",
       "      <td>1</td>\n",
       "      <td>BEVERAGES</td>\n",
       "      <td>20</td>\n",
       "      <td>0</td>\n",
       "    </tr>\n",
       "    <tr>\n",
       "      <th>4</th>\n",
       "      <td>3000892</td>\n",
       "      <td>2017-08-16</td>\n",
       "      <td>1</td>\n",
       "      <td>BOOKS</td>\n",
       "      <td>0</td>\n",
       "      <td>0</td>\n",
       "    </tr>\n",
       "  </tbody>\n",
       "</table>\n",
       "</div>"
      ],
      "text/plain": [
       "        id          ds  store_nbr      family  onpromotion  prediction\n",
       "0  3000888  2017-08-16          1  AUTOMOTIVE            0           0\n",
       "1  3000889  2017-08-16          1   BABY CARE            0           0\n",
       "2  3000890  2017-08-16          1      BEAUTY            2           0\n",
       "3  3000891  2017-08-16          1   BEVERAGES           20           0\n",
       "4  3000892  2017-08-16          1       BOOKS            0           0"
      ]
     },
     "execution_count": 58,
     "metadata": {},
     "output_type": "execute_result"
    }
   ],
   "source": [
    "test = test.rename(columns={'date': 'ds'})\n",
    "test.head()"
   ]
  },
  {
   "cell_type": "code",
   "execution_count": 73,
   "metadata": {},
   "outputs": [
    {
     "name": "stdout",
     "output_type": "stream",
     "text": [
      "Joining train set with an additional store information.\n",
      "In total:  (28768, 7)\n"
     ]
    },
    {
     "data": {
      "text/html": [
       "<div>\n",
       "<style scoped>\n",
       "    .dataframe tbody tr th:only-of-type {\n",
       "        vertical-align: middle;\n",
       "    }\n",
       "\n",
       "    .dataframe tbody tr th {\n",
       "        vertical-align: top;\n",
       "    }\n",
       "\n",
       "    .dataframe thead th {\n",
       "        text-align: right;\n",
       "    }\n",
       "</style>\n",
       "<table border=\"1\" class=\"dataframe\">\n",
       "  <thead>\n",
       "    <tr style=\"text-align: right;\">\n",
       "      <th></th>\n",
       "      <th>id</th>\n",
       "      <th>ds</th>\n",
       "      <th>store_nbr</th>\n",
       "      <th>family</th>\n",
       "      <th>onpromotion</th>\n",
       "      <th>prediction_x</th>\n",
       "      <th>prediction_y</th>\n",
       "    </tr>\n",
       "  </thead>\n",
       "  <tbody>\n",
       "    <tr>\n",
       "      <th>0</th>\n",
       "      <td>3000888</td>\n",
       "      <td>2017-08-16</td>\n",
       "      <td>1</td>\n",
       "      <td>AUTOMOTIVE</td>\n",
       "      <td>0</td>\n",
       "      <td>0</td>\n",
       "      <td>4.368214</td>\n",
       "    </tr>\n",
       "    <tr>\n",
       "      <th>1</th>\n",
       "      <td>3000889</td>\n",
       "      <td>2017-08-16</td>\n",
       "      <td>1</td>\n",
       "      <td>BABY CARE</td>\n",
       "      <td>0</td>\n",
       "      <td>0</td>\n",
       "      <td>0.000000</td>\n",
       "    </tr>\n",
       "    <tr>\n",
       "      <th>2</th>\n",
       "      <td>3000890</td>\n",
       "      <td>2017-08-16</td>\n",
       "      <td>1</td>\n",
       "      <td>BEAUTY</td>\n",
       "      <td>2</td>\n",
       "      <td>0</td>\n",
       "      <td>3.784480</td>\n",
       "    </tr>\n",
       "    <tr>\n",
       "      <th>3</th>\n",
       "      <td>3000891</td>\n",
       "      <td>2017-08-16</td>\n",
       "      <td>1</td>\n",
       "      <td>BEVERAGES</td>\n",
       "      <td>20</td>\n",
       "      <td>0</td>\n",
       "      <td>2280.357274</td>\n",
       "    </tr>\n",
       "    <tr>\n",
       "      <th>4</th>\n",
       "      <td>3000892</td>\n",
       "      <td>2017-08-16</td>\n",
       "      <td>1</td>\n",
       "      <td>BOOKS</td>\n",
       "      <td>0</td>\n",
       "      <td>0</td>\n",
       "      <td>0.478608</td>\n",
       "    </tr>\n",
       "  </tbody>\n",
       "</table>\n",
       "</div>"
      ],
      "text/plain": [
       "        id          ds store_nbr      family  onpromotion  prediction_x  \\\n",
       "0  3000888  2017-08-16         1  AUTOMOTIVE            0             0   \n",
       "1  3000889  2017-08-16         1   BABY CARE            0             0   \n",
       "2  3000890  2017-08-16         1      BEAUTY            2             0   \n",
       "3  3000891  2017-08-16         1   BEVERAGES           20             0   \n",
       "4  3000892  2017-08-16         1       BOOKS            0             0   \n",
       "\n",
       "   prediction_y  \n",
       "0      4.368214  \n",
       "1      0.000000  \n",
       "2      3.784480  \n",
       "3   2280.357274  \n",
       "4      0.478608  "
      ]
     },
     "execution_count": 73,
     "metadata": {},
     "output_type": "execute_result"
    }
   ],
   "source": [
    "print(\"Joining train set with an additional store information.\")\n",
    "\n",
    "# by specifying inner join we make sure that only those observations \n",
    "# that are present in both train and store sets are merged together\n",
    "# 啊还有这种写法？\n",
    "test['ds']=test['ds'].astype(str)\n",
    "test['family']=test['family'].astype(str)\n",
    "test['store_nbr']=test['store_nbr'].astype(str)\n",
    "prediction['ds']=prediction['ds'].astype(str)\n",
    "prediction['family']=prediction['family'].astype(str)\n",
    "prediction['store_nbr']=prediction['store_nbr'].astype(str)\n",
    "\n",
    "result = pd.merge(test, prediction, how = 'left', on = ['ds', 'family', 'store_nbr'])\n",
    "\n",
    "print(\"In total: \", result.shape)\n",
    "result.head()"
   ]
  },
  {
   "cell_type": "code",
   "execution_count": 77,
   "metadata": {},
   "outputs": [
    {
     "data": {
      "text/html": [
       "<div>\n",
       "<style scoped>\n",
       "    .dataframe tbody tr th:only-of-type {\n",
       "        vertical-align: middle;\n",
       "    }\n",
       "\n",
       "    .dataframe tbody tr th {\n",
       "        vertical-align: top;\n",
       "    }\n",
       "\n",
       "    .dataframe thead th {\n",
       "        text-align: right;\n",
       "    }\n",
       "</style>\n",
       "<table border=\"1\" class=\"dataframe\">\n",
       "  <thead>\n",
       "    <tr style=\"text-align: right;\">\n",
       "      <th></th>\n",
       "      <th>id</th>\n",
       "      <th>sales_x</th>\n",
       "      <th>sales_y</th>\n",
       "      <th>sales_x</th>\n",
       "      <th>sales_y</th>\n",
       "    </tr>\n",
       "  </thead>\n",
       "  <tbody>\n",
       "    <tr>\n",
       "      <th>0</th>\n",
       "      <td>3000888</td>\n",
       "      <td>4.368214</td>\n",
       "      <td>0.0</td>\n",
       "      <td>0.0</td>\n",
       "      <td>0.0</td>\n",
       "    </tr>\n",
       "    <tr>\n",
       "      <th>1</th>\n",
       "      <td>3000889</td>\n",
       "      <td>0.000000</td>\n",
       "      <td>0.0</td>\n",
       "      <td>0.0</td>\n",
       "      <td>0.0</td>\n",
       "    </tr>\n",
       "    <tr>\n",
       "      <th>2</th>\n",
       "      <td>3000890</td>\n",
       "      <td>3.784480</td>\n",
       "      <td>0.0</td>\n",
       "      <td>0.0</td>\n",
       "      <td>0.0</td>\n",
       "    </tr>\n",
       "    <tr>\n",
       "      <th>3</th>\n",
       "      <td>3000891</td>\n",
       "      <td>2280.357274</td>\n",
       "      <td>0.0</td>\n",
       "      <td>0.0</td>\n",
       "      <td>0.0</td>\n",
       "    </tr>\n",
       "    <tr>\n",
       "      <th>4</th>\n",
       "      <td>3000892</td>\n",
       "      <td>0.478608</td>\n",
       "      <td>0.0</td>\n",
       "      <td>0.0</td>\n",
       "      <td>0.0</td>\n",
       "    </tr>\n",
       "    <tr>\n",
       "      <th>...</th>\n",
       "      <td>...</td>\n",
       "      <td>...</td>\n",
       "      <td>...</td>\n",
       "      <td>...</td>\n",
       "      <td>...</td>\n",
       "    </tr>\n",
       "    <tr>\n",
       "      <th>28763</th>\n",
       "      <td>3029395</td>\n",
       "      <td>373.437491</td>\n",
       "      <td>0.0</td>\n",
       "      <td>0.0</td>\n",
       "      <td>0.0</td>\n",
       "    </tr>\n",
       "    <tr>\n",
       "      <th>28764</th>\n",
       "      <td>3029396</td>\n",
       "      <td>116.273855</td>\n",
       "      <td>0.0</td>\n",
       "      <td>0.0</td>\n",
       "      <td>0.0</td>\n",
       "    </tr>\n",
       "    <tr>\n",
       "      <th>28765</th>\n",
       "      <td>3029397</td>\n",
       "      <td>1629.237615</td>\n",
       "      <td>0.0</td>\n",
       "      <td>0.0</td>\n",
       "      <td>0.0</td>\n",
       "    </tr>\n",
       "    <tr>\n",
       "      <th>28766</th>\n",
       "      <td>3029398</td>\n",
       "      <td>54.787603</td>\n",
       "      <td>0.0</td>\n",
       "      <td>0.0</td>\n",
       "      <td>0.0</td>\n",
       "    </tr>\n",
       "    <tr>\n",
       "      <th>28767</th>\n",
       "      <td>3029399</td>\n",
       "      <td>15.858794</td>\n",
       "      <td>0.0</td>\n",
       "      <td>0.0</td>\n",
       "      <td>0.0</td>\n",
       "    </tr>\n",
       "  </tbody>\n",
       "</table>\n",
       "<p>28512 rows × 5 columns</p>\n",
       "</div>"
      ],
      "text/plain": [
       "            id      sales_x  sales_y  sales_x  sales_y\n",
       "0      3000888     4.368214      0.0      0.0      0.0\n",
       "1      3000889     0.000000      0.0      0.0      0.0\n",
       "2      3000890     3.784480      0.0      0.0      0.0\n",
       "3      3000891  2280.357274      0.0      0.0      0.0\n",
       "4      3000892     0.478608      0.0      0.0      0.0\n",
       "...        ...          ...      ...      ...      ...\n",
       "28763  3029395   373.437491      0.0      0.0      0.0\n",
       "28764  3029396   116.273855      0.0      0.0      0.0\n",
       "28765  3029397  1629.237615      0.0      0.0      0.0\n",
       "28766  3029398    54.787603      0.0      0.0      0.0\n",
       "28767  3029399    15.858794      0.0      0.0      0.0\n",
       "\n",
       "[28512 rows x 5 columns]"
      ]
     },
     "execution_count": 77,
     "metadata": {},
     "output_type": "execute_result"
    }
   ],
   "source": [
    "result_new = result_new.drop_duplicates(subset=['id'], keep='first')\n",
    "result_new"
   ]
  },
  {
   "cell_type": "code",
   "execution_count": 61,
   "metadata": {},
   "outputs": [
    {
     "data": {
      "text/html": [
       "<div>\n",
       "<style scoped>\n",
       "    .dataframe tbody tr th:only-of-type {\n",
       "        vertical-align: middle;\n",
       "    }\n",
       "\n",
       "    .dataframe tbody tr th {\n",
       "        vertical-align: top;\n",
       "    }\n",
       "\n",
       "    .dataframe thead th {\n",
       "        text-align: right;\n",
       "    }\n",
       "</style>\n",
       "<table border=\"1\" class=\"dataframe\">\n",
       "  <thead>\n",
       "    <tr style=\"text-align: right;\">\n",
       "      <th></th>\n",
       "      <th>id</th>\n",
       "      <th>sales</th>\n",
       "    </tr>\n",
       "  </thead>\n",
       "  <tbody>\n",
       "    <tr>\n",
       "      <th>0</th>\n",
       "      <td>3000888</td>\n",
       "      <td>4.368214</td>\n",
       "    </tr>\n",
       "    <tr>\n",
       "      <th>1</th>\n",
       "      <td>3000889</td>\n",
       "      <td>0.000000</td>\n",
       "    </tr>\n",
       "    <tr>\n",
       "      <th>2</th>\n",
       "      <td>3000890</td>\n",
       "      <td>3.784480</td>\n",
       "    </tr>\n",
       "    <tr>\n",
       "      <th>3</th>\n",
       "      <td>3000891</td>\n",
       "      <td>2280.357274</td>\n",
       "    </tr>\n",
       "    <tr>\n",
       "      <th>4</th>\n",
       "      <td>3000892</td>\n",
       "      <td>0.478608</td>\n",
       "    </tr>\n",
       "    <tr>\n",
       "      <th>...</th>\n",
       "      <td>...</td>\n",
       "      <td>...</td>\n",
       "    </tr>\n",
       "    <tr>\n",
       "      <th>28763</th>\n",
       "      <td>3029395</td>\n",
       "      <td>373.437491</td>\n",
       "    </tr>\n",
       "    <tr>\n",
       "      <th>28764</th>\n",
       "      <td>3029396</td>\n",
       "      <td>116.273855</td>\n",
       "    </tr>\n",
       "    <tr>\n",
       "      <th>28765</th>\n",
       "      <td>3029397</td>\n",
       "      <td>1629.237615</td>\n",
       "    </tr>\n",
       "    <tr>\n",
       "      <th>28766</th>\n",
       "      <td>3029398</td>\n",
       "      <td>54.787603</td>\n",
       "    </tr>\n",
       "    <tr>\n",
       "      <th>28767</th>\n",
       "      <td>3029399</td>\n",
       "      <td>15.858794</td>\n",
       "    </tr>\n",
       "  </tbody>\n",
       "</table>\n",
       "<p>28768 rows × 2 columns</p>\n",
       "</div>"
      ],
      "text/plain": [
       "            id        sales\n",
       "0      3000888     4.368214\n",
       "1      3000889     0.000000\n",
       "2      3000890     3.784480\n",
       "3      3000891  2280.357274\n",
       "4      3000892     0.478608\n",
       "...        ...          ...\n",
       "28763  3029395   373.437491\n",
       "28764  3029396   116.273855\n",
       "28765  3029397  1629.237615\n",
       "28766  3029398    54.787603\n",
       "28767  3029399    15.858794\n",
       "\n",
       "[28768 rows x 2 columns]"
      ]
     },
     "execution_count": 61,
     "metadata": {},
     "output_type": "execute_result"
    }
   ],
   "source": [
    "result_new = result.drop('ds', axis=1)\n",
    "result_new = result_new.drop('store_nbr', axis=1)\n",
    "result_new = result_new.drop('family', axis=1)\n",
    "result_new = result_new.drop('onpromotion', axis=1)\n",
    "result_new = result_new.drop('prediction_x', axis=1)\n",
    "result_new = result_new.rename(columns={'prediction_y': 'sales'})\n",
    "\n",
    "result_new"
   ]
  },
  {
   "cell_type": "code",
   "execution_count": 63,
   "metadata": {},
   "outputs": [
    {
     "data": {
      "text/html": [
       "<div>\n",
       "<style scoped>\n",
       "    .dataframe tbody tr th:only-of-type {\n",
       "        vertical-align: middle;\n",
       "    }\n",
       "\n",
       "    .dataframe tbody tr th {\n",
       "        vertical-align: top;\n",
       "    }\n",
       "\n",
       "    .dataframe thead th {\n",
       "        text-align: right;\n",
       "    }\n",
       "</style>\n",
       "<table border=\"1\" class=\"dataframe\">\n",
       "  <thead>\n",
       "    <tr style=\"text-align: right;\">\n",
       "      <th></th>\n",
       "      <th>id</th>\n",
       "      <th>sales</th>\n",
       "    </tr>\n",
       "  </thead>\n",
       "  <tbody>\n",
       "    <tr>\n",
       "      <th>0</th>\n",
       "      <td>3000888</td>\n",
       "      <td>0.0</td>\n",
       "    </tr>\n",
       "    <tr>\n",
       "      <th>1</th>\n",
       "      <td>3000889</td>\n",
       "      <td>0.0</td>\n",
       "    </tr>\n",
       "    <tr>\n",
       "      <th>2</th>\n",
       "      <td>3000890</td>\n",
       "      <td>0.0</td>\n",
       "    </tr>\n",
       "    <tr>\n",
       "      <th>3</th>\n",
       "      <td>3000891</td>\n",
       "      <td>0.0</td>\n",
       "    </tr>\n",
       "    <tr>\n",
       "      <th>4</th>\n",
       "      <td>3000892</td>\n",
       "      <td>0.0</td>\n",
       "    </tr>\n",
       "    <tr>\n",
       "      <th>...</th>\n",
       "      <td>...</td>\n",
       "      <td>...</td>\n",
       "    </tr>\n",
       "    <tr>\n",
       "      <th>28507</th>\n",
       "      <td>3029395</td>\n",
       "      <td>0.0</td>\n",
       "    </tr>\n",
       "    <tr>\n",
       "      <th>28508</th>\n",
       "      <td>3029396</td>\n",
       "      <td>0.0</td>\n",
       "    </tr>\n",
       "    <tr>\n",
       "      <th>28509</th>\n",
       "      <td>3029397</td>\n",
       "      <td>0.0</td>\n",
       "    </tr>\n",
       "    <tr>\n",
       "      <th>28510</th>\n",
       "      <td>3029398</td>\n",
       "      <td>0.0</td>\n",
       "    </tr>\n",
       "    <tr>\n",
       "      <th>28511</th>\n",
       "      <td>3029399</td>\n",
       "      <td>0.0</td>\n",
       "    </tr>\n",
       "  </tbody>\n",
       "</table>\n",
       "<p>28512 rows × 2 columns</p>\n",
       "</div>"
      ],
      "text/plain": [
       "            id  sales\n",
       "0      3000888    0.0\n",
       "1      3000889    0.0\n",
       "2      3000890    0.0\n",
       "3      3000891    0.0\n",
       "4      3000892    0.0\n",
       "...        ...    ...\n",
       "28507  3029395    0.0\n",
       "28508  3029396    0.0\n",
       "28509  3029397    0.0\n",
       "28510  3029398    0.0\n",
       "28511  3029399    0.0\n",
       "\n",
       "[28512 rows x 2 columns]"
      ]
     },
     "execution_count": 63,
     "metadata": {},
     "output_type": "execute_result"
    }
   ],
   "source": [
    "sample_submission = pd.read_csv('store-sales-time-series-forecasting/sample_submission.csv')\n",
    "sample_submission"
   ]
  },
  {
   "cell_type": "code",
   "execution_count": 67,
   "metadata": {},
   "outputs": [
    {
     "data": {
      "text/html": [
       "<div>\n",
       "<style scoped>\n",
       "    .dataframe tbody tr th:only-of-type {\n",
       "        vertical-align: middle;\n",
       "    }\n",
       "\n",
       "    .dataframe tbody tr th {\n",
       "        vertical-align: top;\n",
       "    }\n",
       "\n",
       "    .dataframe thead th {\n",
       "        text-align: right;\n",
       "    }\n",
       "</style>\n",
       "<table border=\"1\" class=\"dataframe\">\n",
       "  <thead>\n",
       "    <tr style=\"text-align: right;\">\n",
       "      <th></th>\n",
       "      <th>id</th>\n",
       "      <th>sales_x</th>\n",
       "      <th>sales_y</th>\n",
       "      <th>sales_x</th>\n",
       "      <th>sales_y</th>\n",
       "    </tr>\n",
       "  </thead>\n",
       "  <tbody>\n",
       "    <tr>\n",
       "      <th>0</th>\n",
       "      <td>3000888</td>\n",
       "      <td>4.368214</td>\n",
       "      <td>0.0</td>\n",
       "      <td>0.0</td>\n",
       "      <td>0.0</td>\n",
       "    </tr>\n",
       "    <tr>\n",
       "      <th>1</th>\n",
       "      <td>3000889</td>\n",
       "      <td>0.000000</td>\n",
       "      <td>0.0</td>\n",
       "      <td>0.0</td>\n",
       "      <td>0.0</td>\n",
       "    </tr>\n",
       "    <tr>\n",
       "      <th>2</th>\n",
       "      <td>3000890</td>\n",
       "      <td>3.784480</td>\n",
       "      <td>0.0</td>\n",
       "      <td>0.0</td>\n",
       "      <td>0.0</td>\n",
       "    </tr>\n",
       "    <tr>\n",
       "      <th>3</th>\n",
       "      <td>3000891</td>\n",
       "      <td>2280.357274</td>\n",
       "      <td>0.0</td>\n",
       "      <td>0.0</td>\n",
       "      <td>0.0</td>\n",
       "    </tr>\n",
       "    <tr>\n",
       "      <th>4</th>\n",
       "      <td>3000892</td>\n",
       "      <td>0.478608</td>\n",
       "      <td>0.0</td>\n",
       "      <td>0.0</td>\n",
       "      <td>0.0</td>\n",
       "    </tr>\n",
       "    <tr>\n",
       "      <th>...</th>\n",
       "      <td>...</td>\n",
       "      <td>...</td>\n",
       "      <td>...</td>\n",
       "      <td>...</td>\n",
       "      <td>...</td>\n",
       "    </tr>\n",
       "    <tr>\n",
       "      <th>28763</th>\n",
       "      <td>3029395</td>\n",
       "      <td>373.437491</td>\n",
       "      <td>0.0</td>\n",
       "      <td>0.0</td>\n",
       "      <td>0.0</td>\n",
       "    </tr>\n",
       "    <tr>\n",
       "      <th>28764</th>\n",
       "      <td>3029396</td>\n",
       "      <td>116.273855</td>\n",
       "      <td>0.0</td>\n",
       "      <td>0.0</td>\n",
       "      <td>0.0</td>\n",
       "    </tr>\n",
       "    <tr>\n",
       "      <th>28765</th>\n",
       "      <td>3029397</td>\n",
       "      <td>1629.237615</td>\n",
       "      <td>0.0</td>\n",
       "      <td>0.0</td>\n",
       "      <td>0.0</td>\n",
       "    </tr>\n",
       "    <tr>\n",
       "      <th>28766</th>\n",
       "      <td>3029398</td>\n",
       "      <td>54.787603</td>\n",
       "      <td>0.0</td>\n",
       "      <td>0.0</td>\n",
       "      <td>0.0</td>\n",
       "    </tr>\n",
       "    <tr>\n",
       "      <th>28767</th>\n",
       "      <td>3029399</td>\n",
       "      <td>15.858794</td>\n",
       "      <td>0.0</td>\n",
       "      <td>0.0</td>\n",
       "      <td>0.0</td>\n",
       "    </tr>\n",
       "  </tbody>\n",
       "</table>\n",
       "<p>28768 rows × 5 columns</p>\n",
       "</div>"
      ],
      "text/plain": [
       "            id      sales_x  sales_y  sales_x  sales_y\n",
       "0      3000888     4.368214      0.0      0.0      0.0\n",
       "1      3000889     0.000000      0.0      0.0      0.0\n",
       "2      3000890     3.784480      0.0      0.0      0.0\n",
       "3      3000891  2280.357274      0.0      0.0      0.0\n",
       "4      3000892     0.478608      0.0      0.0      0.0\n",
       "...        ...          ...      ...      ...      ...\n",
       "28763  3029395   373.437491      0.0      0.0      0.0\n",
       "28764  3029396   116.273855      0.0      0.0      0.0\n",
       "28765  3029397  1629.237615      0.0      0.0      0.0\n",
       "28766  3029398    54.787603      0.0      0.0      0.0\n",
       "28767  3029399    15.858794      0.0      0.0      0.0\n",
       "\n",
       "[28768 rows x 5 columns]"
      ]
     },
     "execution_count": 67,
     "metadata": {},
     "output_type": "execute_result"
    }
   ],
   "source": [
    "result_new = pd.merge(result_new, sample_submission, how = 'inner', on = ['id'])\n",
    "result_new"
   ]
  },
  {
   "cell_type": "code",
   "execution_count": 78,
   "metadata": {},
   "outputs": [],
   "source": [
    "result_new.to_csv(\"submission5.csv\", index=False)"
   ]
  },
  {
   "cell_type": "code",
   "execution_count": 128,
   "metadata": {
    "_cell_guid": "10fd6159-7dbe-44cf-87d5-e329eb5a58e2",
    "_uuid": "003bccbae7c43979f072e63b680739af28809787",
    "collapsed": false
   },
   "outputs": [
    {
     "data": {
      "text/html": [
       "<div>\n",
       "<style scoped>\n",
       "    .dataframe tbody tr th:only-of-type {\n",
       "        vertical-align: middle;\n",
       "    }\n",
       "\n",
       "    .dataframe tbody tr th {\n",
       "        vertical-align: top;\n",
       "    }\n",
       "\n",
       "    .dataframe thead th {\n",
       "        text-align: right;\n",
       "    }\n",
       "</style>\n",
       "<table border=\"1\" class=\"dataframe\">\n",
       "  <thead>\n",
       "    <tr style=\"text-align: right;\">\n",
       "      <th></th>\n",
       "      <th>ds</th>\n",
       "      <th>yhat</th>\n",
       "      <th>yhat_lower</th>\n",
       "      <th>yhat_upper</th>\n",
       "    </tr>\n",
       "  </thead>\n",
       "  <tbody>\n",
       "    <tr>\n",
       "      <th>1620</th>\n",
       "      <td>2017-06-19</td>\n",
       "      <td>388.895615</td>\n",
       "      <td>-911.458743</td>\n",
       "      <td>1695.947772</td>\n",
       "    </tr>\n",
       "    <tr>\n",
       "      <th>1621</th>\n",
       "      <td>2017-06-20</td>\n",
       "      <td>381.199716</td>\n",
       "      <td>-958.116185</td>\n",
       "      <td>1617.904970</td>\n",
       "    </tr>\n",
       "    <tr>\n",
       "      <th>1622</th>\n",
       "      <td>2017-06-21</td>\n",
       "      <td>462.089687</td>\n",
       "      <td>-886.764286</td>\n",
       "      <td>1756.990294</td>\n",
       "    </tr>\n",
       "    <tr>\n",
       "      <th>1623</th>\n",
       "      <td>2017-06-22</td>\n",
       "      <td>365.068743</td>\n",
       "      <td>-941.805966</td>\n",
       "      <td>1644.281111</td>\n",
       "    </tr>\n",
       "    <tr>\n",
       "      <th>1624</th>\n",
       "      <td>2017-06-23</td>\n",
       "      <td>414.265916</td>\n",
       "      <td>-759.675952</td>\n",
       "      <td>1695.554041</td>\n",
       "    </tr>\n",
       "    <tr>\n",
       "      <th>...</th>\n",
       "      <td>...</td>\n",
       "      <td>...</td>\n",
       "      <td>...</td>\n",
       "      <td>...</td>\n",
       "    </tr>\n",
       "    <tr>\n",
       "      <th>1715</th>\n",
       "      <td>2017-09-22</td>\n",
       "      <td>409.879875</td>\n",
       "      <td>-797.135003</td>\n",
       "      <td>1675.497634</td>\n",
       "    </tr>\n",
       "    <tr>\n",
       "      <th>1716</th>\n",
       "      <td>2017-09-23</td>\n",
       "      <td>384.399908</td>\n",
       "      <td>-930.884117</td>\n",
       "      <td>1636.312326</td>\n",
       "    </tr>\n",
       "    <tr>\n",
       "      <th>1717</th>\n",
       "      <td>2017-09-24</td>\n",
       "      <td>207.466210</td>\n",
       "      <td>-1066.392525</td>\n",
       "      <td>1503.505270</td>\n",
       "    </tr>\n",
       "    <tr>\n",
       "      <th>1718</th>\n",
       "      <td>2017-09-25</td>\n",
       "      <td>385.905515</td>\n",
       "      <td>-873.633050</td>\n",
       "      <td>1658.550075</td>\n",
       "    </tr>\n",
       "    <tr>\n",
       "      <th>1719</th>\n",
       "      <td>2017-09-26</td>\n",
       "      <td>379.297774</td>\n",
       "      <td>-827.574789</td>\n",
       "      <td>1608.301485</td>\n",
       "    </tr>\n",
       "  </tbody>\n",
       "</table>\n",
       "<p>100 rows × 4 columns</p>\n",
       "</div>"
      ],
      "text/plain": [
       "             ds        yhat   yhat_lower   yhat_upper\n",
       "1620 2017-06-19  388.895615  -911.458743  1695.947772\n",
       "1621 2017-06-20  381.199716  -958.116185  1617.904970\n",
       "1622 2017-06-21  462.089687  -886.764286  1756.990294\n",
       "1623 2017-06-22  365.068743  -941.805966  1644.281111\n",
       "1624 2017-06-23  414.265916  -759.675952  1695.554041\n",
       "...         ...         ...          ...          ...\n",
       "1715 2017-09-22  409.879875  -797.135003  1675.497634\n",
       "1716 2017-09-23  384.399908  -930.884117  1636.312326\n",
       "1717 2017-09-24  207.466210 -1066.392525  1503.505270\n",
       "1718 2017-09-25  385.905515  -873.633050  1658.550075\n",
       "1719 2017-09-26  379.297774  -827.574789  1608.301485\n",
       "\n",
       "[100 rows x 4 columns]"
      ]
     },
     "execution_count": 128,
     "metadata": {},
     "output_type": "execute_result"
    }
   ],
   "source": [
    "# predictions\n",
    "forecast = my_model.predict(future_dates)\n",
    "\n",
    "# preditions for last week\n",
    "forecast[['ds', 'yhat', 'yhat_lower', 'yhat_upper']].tail(100)\n",
    "\n"
   ]
  },
  {
   "cell_type": "markdown",
   "metadata": {
    "_cell_guid": "e7702a93-c542-453b-b1ef-c780f7a6578e",
    "_uuid": "7485d14e593ca99bca724014611c67812acb37bf"
   },
   "source": [
    "The forecast object here is a new dataframe that includes a column yhat with the forecast, as well as columns for components and uncertainty intervals."
   ]
  },
  {
   "cell_type": "code",
   "execution_count": 118,
   "metadata": {
    "_cell_guid": "0a2432f9-9bd7-4b36-9141-43447c4ca448",
    "_uuid": "ee3bd97dd2ebcd301fd09e6c78077e0b803ed208",
    "collapsed": true
   },
   "outputs": [],
   "source": [
    "fc = forecast[['ds', 'yhat']].rename(columns = {'Date': 'ds', 'Forecast': 'yhat'})"
   ]
  },
  {
   "cell_type": "markdown",
   "metadata": {
    "_cell_guid": "300e9a3a-bf0d-43e4-aac3-e9db12f2c500",
    "_uuid": "58c59894209b070ed5ac8b3d1369bbf76cd265ee"
   },
   "source": [
    "Prophet 绘制时间序列的观察值（黑点），预测值（蓝线）和预测的不确定性区间（蓝色阴影区域）。"
   ]
  },
  {
   "cell_type": "code",
   "execution_count": 121,
   "metadata": {
    "_cell_guid": "0de56903-5ab2-45d4-99b0-10ba497006b9",
    "_uuid": "c2b553f8d2b69ee465b8f2a34a9e90182d258daa",
    "collapsed": false
   },
   "outputs": [
    {
     "data": {
      "image/png": "[encoded data removed]",
      "text/plain": [
       "<Figure size 720x432 with 1 Axes>"
      ]
     },
     "metadata": {},
     "output_type": "display_data"
    }
   ],
   "source": [
    "# visualizing predicions\n",
    "my_model.plot(forecast);\n",
    "\n",
    "#怎么看着这么奇怪啊"
   ]
  },
  {
   "cell_type": "markdown",
   "metadata": {
    "_cell_guid": "48185ddd-8f02-4e11-a140-346e6e6c5552",
    "_uuid": "199a605832653b53d21be752fb70d94571167bb7"
   },
   "source": [
    "Prophet的另一个特别强大的功能是它能够返回我们预测的组成部分。这可以帮助揭示时间序列的日、周和年模式以及许多包括在其中的假期对整体预测值的贡献。"
   ]
  },
  {
   "cell_type": "code",
   "execution_count": 122,
   "metadata": {
    "_cell_guid": "26fded30-65b3-425f-9bc0-695fd2e51742",
    "_uuid": "ebb2326cfd275eb2dc26d2a191dfe7935ac59cfa",
    "collapsed": false
   },
   "outputs": [
    {
     "data": {
      "image/png": "[encoded data removed]",
      "text/plain": [
       "<Figure size 648x1080 with 5 Axes>"
      ]
     },
     "metadata": {},
     "output_type": "display_data"
    }
   ],
   "source": [
    "my_model.plot_components(forecast);\n",
    "\n",
    "#这里的最后一幅图日是不对的，0点高是因为时间戳没有精细到小时，所有时间戳都标记为0点"
   ]
  },
  {
   "cell_type": "markdown",
   "metadata": {
    "_cell_guid": "93d3d3aa-d0f6-4be3-8897-63242cd6db67",
    "_uuid": "dd7c1221d2de07fd847da4ab4dea28ec57fee9c1"
   },
   "source": [
    "最繁忙的季节发生在圣诞节期间。"
   ]
  }
 ],
 "metadata": {
  "interpreter": {
   "hash": "b879cfb6535599689e713ad96927809c98358a0f4f2c141f946140bc55ede86d"
  },
  "kernelspec": {
   "display_name": "Python 3.6.13 ('reviewGeneration')",
   "language": "python",
   "name": "python3"
  },
  "language_info": {
   "codemirror_mode": {
    "name": "ipython",
    "version": 3
   },
   "file_extension": ".py",
   "mimetype": "text/x-python",
   "name": "python",
   "nbconvert_exporter": "python",
   "pygments_lexer": "ipython3",
   "version": "3.6.13"
  }
 },
 "nbformat": 4,
 "nbformat_minor": 2
}
